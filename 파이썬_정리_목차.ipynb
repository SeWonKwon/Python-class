{
  "nbformat": 4,
  "nbformat_minor": 0,
  "metadata": {
    "colab": {
      "name": "파이썬 정리 목차.ipynb",
      "provenance": [],
      "collapsed_sections": [],
      "toc_visible": true,
      "authorship_tag": "ABX9TyNbIufJHCSrJgWwVoN9Z4dD",
      "include_colab_link": true
    },
    "kernelspec": {
      "name": "python3",
      "display_name": "Python 3"
    }
  },
  "cells": [
    {
      "cell_type": "markdown",
      "metadata": {
        "id": "view-in-github",
        "colab_type": "text"
      },
      "source": [
        "<a href=\"https://colab.research.google.com/github/SeWonKwon/Python-class/blob/main/%ED%8C%8C%EC%9D%B4%EC%8D%AC_%EC%A0%95%EB%A6%AC_%EB%AA%A9%EC%B0%A8.ipynb\" target=\"_parent\"><img src=\"https://colab.research.google.com/assets/colab-badge.svg\" alt=\"Open In Colab\"/></a>"
      ]
    },
    {
      "cell_type": "markdown",
      "metadata": {
        "id": "5B6t7IsWTRCA"
      },
      "source": [
        "# 정리 목차\r\n"
      ]
    },
    {
      "cell_type": "markdown",
      "metadata": {
        "id": "OFfaWO20SJfb"
      },
      "source": [
        "# 자료형\r\n",
        "\r\n",
        "1. 자료형 정리\r\n"
      ]
    },
    {
      "cell_type": "markdown",
      "metadata": {
        "id": "J_vBmLYXSJ3M"
      },
      "source": [
        "# 변수와 함수\r\n"
      ]
    },
    {
      "cell_type": "markdown",
      "metadata": {
        "id": "sYnGqT1_SKL3"
      },
      "source": [
        "# 제어문"
      ]
    },
    {
      "cell_type": "markdown",
      "metadata": {
        "id": "ePgnQK9pSKcD"
      },
      "source": [
        "# 클래스와 상속"
      ]
    },
    {
      "cell_type": "markdown",
      "metadata": {
        "id": "1N46YvuKSKq7"
      },
      "source": [
        "# 새 섹션"
      ]
    },
    {
      "cell_type": "markdown",
      "metadata": {
        "id": "c8CR2mFpSK6n"
      },
      "source": [
        "# 새 섹션"
      ]
    }
  ]
}