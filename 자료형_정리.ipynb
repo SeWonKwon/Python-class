{
  "nbformat": 4,
  "nbformat_minor": 0,
  "metadata": {
    "colab": {
      "name": "자료형 정리.ipynb",
      "provenance": [],
      "collapsed_sections": [],
      "toc_visible": true,
      "authorship_tag": "ABX9TyPhPCoehge9OSRpwCfeiPg/",
      "include_colab_link": true
    },
    "kernelspec": {
      "name": "python3",
      "display_name": "Python 3"
    }
  },
  "cells": [
    {
      "cell_type": "markdown",
      "metadata": {
        "id": "view-in-github",
        "colab_type": "text"
      },
      "source": [
        "<a href=\"https://colab.research.google.com/github/SeWonKwon/Python-class/blob/main/%EC%9E%90%EB%A3%8C%ED%98%95_%EC%A0%95%EB%A6%AC.ipynb\" target=\"_parent\"><img src=\"https://colab.research.google.com/assets/colab-badge.svg\" alt=\"Open In Colab\"/></a>"
      ]
    },
    {
      "cell_type": "markdown",
      "metadata": {
        "id": "H3-fXQDCRvsJ"
      },
      "source": [
        "# 자료형의 분류\r\n",
        "\r\n",
        "\r\n",
        "\r\n",
        "1.   자료형을 나누는 기준에 따라서 여러가지로 나눌수 있다.\r\n",
        "\r\n",
        "\r\n",
        "*  스칼라 타입\r\n",
        "*  스퀀스 타입\r\n",
        "\r\n",
        "\r\n",
        "2.   파이썬의 주요 내장 자료형에 따라서, 각각의 특징에 따라서\r\n",
        "\r\n",
        "\r\n",
        "\r\n",
        "*   부울 - bool   : True 와 False를 나타내는 자료형이다.\r\n",
        "*   수치형 - int, float, complex : 정수, 실수, 복소수 등 숫자를 표현하는 자료형이다.\r\n",
        "*   문자열 - str  : 유니코드 문자의 모임을 표현하는 자료형이다. 내용 변경이 안된다.\r\n",
        "*   바이트 - bytes : 0 ~  255 사이 코드의 모임을 표현하는 자료형이다.\r\n",
        "*   리스트 - list  : 순서가 있는 파이썬 객체의 집합을 표현하는 자료형이다.\r\n",
        "*   딕셔너리 - dict  : 순서가 없는 파이썬 객체의 집합을 표현하는 자료형이다. 키(Kyes) 와 밸류(Values) 로 이루어져 있따.\r\n",
        "*   튜플 - tuple   : 순서가 있는 파이썬 객체의 집합을 표현하는 자료형이다. 내용 변경이 안된다.\r\n",
        "*   집합 - set   : 집합을 표현하는 자료형이다. \r\n",
        "\r\n",
        "자세한 내용은 아래 목차로 다시 설명 하겠습니다.~~"
      ]
    },
    {
      "cell_type": "markdown",
      "metadata": {
        "id": "2oGwOaHEOWFJ"
      },
      "source": [
        "# **Scalar Types (  스칼라 타입 )**\r\n",
        "\r\n",
        "\r\n",
        "---\r\n",
        " A scalar is a type that can have a single value such as 5, 3.14, or ‘Bob’.\r\n",
        "\r\n",
        "\r\n",
        "\r\n",
        "1.   **int** : Any interger\r\n",
        "2.   **fLoat** : Floating pint number (64 bit precision)\r\n",
        "3.   **complex** : Numbers with an optional imaginary component\r\n",
        "4.   **bool** : Treu, False\r\n",
        "5.   **str** : A sequencse of characters ( can contain unicode characters).\r\n",
        "6.   **bytes** : A sequencd of unsigned 8-bit entities, used for manipulating binary data.\r\n",
        "5.   **NoneType(None)** : Python's null or nil equivalent, every instance of None is of NoneType.( NaN)\r\n",
        "\r\n",
        "출처: https://jpt-pynotes.readthedocs.io/en/latest/scalar-types.html#numeric-types\r\n",
        "\r\n",
        "\r\n",
        "\r\n"
      ]
    },
    {
      "cell_type": "markdown",
      "metadata": {
        "id": "m4SoM_v3XFGU"
      },
      "source": [
        "## **Numeric Types**(숫자형)\r\n",
        "\r\n",
        "\r\n",
        "\r\n",
        "---\r\n",
        "\r\n",
        "\r\n",
        "1.   integers-정수형\r\n",
        "2.   floating point numbers-실수형\r\n",
        "3.   complex numbers-복소수\r\n",
        "4.   8-bit(Octal),16-bit(Hexadecimal)\r\n",
        "5.   Booleans\r\n",
        "\r\n",
        "출처: https://docs.python.org/3/library/stdtypes.html\r\n"
      ]
    },
    {
      "cell_type": "markdown",
      "metadata": {
        "id": "TCwsuUdyc5eP"
      },
      "source": [
        ""
      ]
    },
    {
      "cell_type": "markdown",
      "metadata": {
        "id": "i4cinI0pa8mu"
      },
      "source": [
        "## **Operation** ( 연산자)\r\n",
        "\r\n",
        "---\r\n",
        "```\r\n",
        "=    :    Assignment (할당) 코드로 형식 지정됨\r\n",
        "```\r\n",
        "---\r\n",
        "Arithmetic Operators (산술 연산자)\r\n",
        "--------------------\r\n",
        "```\r\n",
        "+    Addition\r\n",
        "-    Subtraction\r\n",
        "*    Multiplication\r\n",
        "/    Division\r\n",
        "//   Floor Division\r\n",
        "%    Modulo\r\n",
        "**   Power\r\n",
        "```\r\n",
        "---\r\n",
        "Comparison Operators (비교 연산자)\r\n",
        "--------------------\r\n",
        "```\r\n",
        "==   Equal To\r\n",
        ">    Greater Than\r\n",
        ">=   Greater Than or Equal To\r\n",
        "<    Less Than\r\n",
        "<=   Less Than or Equal To\r\n",
        "!=   Not Equal\r\n",
        "is   object identity\r\n",
        "is not negated object identity\r\n",
        "\r\n",
        "\" in ,not in \"   cannot be used in Scalar type .It's for Sequence type.\r\n",
        "```\r\n",
        "---\r\n",
        "Boolean Operators\r\n",
        "-----------------\r\n",
        "```\r\n",
        "and\r\n",
        "or\r\n",
        "not\r\n",
        "```"
      ]
    },
    {
      "cell_type": "markdown",
      "metadata": {
        "id": "eR2kx3sQdIsq"
      },
      "source": [
        "### 1. Arithmetic Operators (산술연산자)\r\n",
        "\r\n",
        "\r\n",
        "```\r\n",
        "x + y     sum of x and y\r\n",
        "\r\n",
        "x - y     difference of x and y\r\n",
        "\r\n",
        "x * y     product of x and y\r\n",
        "\r\n",
        "x / y     quotient of x and y\r\n",
        "\r\n",
        "x // y    floored quotient of x and y\r\n",
        "\r\n",
        "x % y     remainder of x / y\r\n",
        "\r\n",
        "-x        x negated\r\n",
        "\r\n",
        "+x        x unchanged\r\n",
        "\r\n",
        "abs(x)    absolute value or magnitude of x      abs()\r\n",
        "\r\n",
        "int(x)    x converted to integer                int()\r\n",
        "\r\n",
        "float(x)  x converted to floating point         float()\r\n",
        "\r\n",
        "complex(re, im) a complex number with real part re, imaginary part im. im defaults to zero.        complex()\r\n",
        "\r\n",
        "c.conjugate()   conjugate of the complex number c\r\n",
        "\r\n",
        "divmod(x, y)    the pair (x // y, x % y)       divmod()\r\n",
        "\r\n",
        "pow(x, y)       x to the power y               pow()\r\n",
        "\r\n",
        "x ** y          x to the power y\r\n",
        "```\r\n",
        "\r\n"
      ]
    },
    {
      "cell_type": "code",
      "metadata": {
        "id": "XH4U0-4nNxr3",
        "colab": {
          "base_uri": "https://localhost:8080/"
        },
        "outputId": "f86b6d16-3fe1-4c5c-ba1a-30a5f9631478"
      },
      "source": [
        "# x / y     quotient of x and y\r\n",
        "# x // y    floored quotient of x and y\r\n",
        "# x % y     remainder of x / y\r\n",
        "\r\n",
        "# divmod(x, y)    the pair (x // y, x % y)       divmod()\r\n",
        "\r\n",
        "for i in range(14):\r\n",
        "    print(i,divmod(i,3))"
      ],
      "execution_count": null,
      "outputs": [
        {
          "output_type": "stream",
          "text": [
            "0 (0, 0)\n",
            "1 (0, 1)\n",
            "2 (0, 2)\n",
            "3 (1, 0)\n",
            "4 (1, 1)\n",
            "5 (1, 2)\n",
            "6 (2, 0)\n",
            "7 (2, 1)\n",
            "8 (2, 2)\n",
            "9 (3, 0)\n",
            "10 (3, 1)\n",
            "11 (3, 2)\n",
            "12 (4, 0)\n",
            "13 (4, 1)\n"
          ],
          "name": "stdout"
        }
      ]
    },
    {
      "cell_type": "code",
      "metadata": {
        "colab": {
          "base_uri": "https://localhost:8080/"
        },
        "id": "-13R_GNGe7qX",
        "outputId": "0dbbeb80-6099-40e1-bff9-3a8bf237a131"
      },
      "source": [
        "# All numbers.Real types (int and float ) also include the following operations:\r\n",
        "import math # 내장 모듈 math\r\n",
        "\r\n",
        "# math.trunc(x)    -->       x truncated to Integral\r\n",
        "a = 3.535565\r\n",
        "print(math.trunc(a))\r\n",
        "\r\n",
        "# round(x,n)    --> x rounded to n digits, rounding half to even. \r\n",
        "print(round(a)) # If n is omitted, it defaults to 0.\r\n",
        "print(round(a,3))\r\n",
        "\r\n",
        "# math.floor(x)  -->   the greatest Integral <= x\r\n",
        "print(math.floor(a))\r\n",
        "\r\n",
        "# math.ceil(x) --->  the least Integral >= x\r\n",
        "print(math.ceil(a)) "
      ],
      "execution_count": null,
      "outputs": [
        {
          "output_type": "stream",
          "text": [
            "3\n",
            "4\n",
            "3.536\n",
            "3\n",
            "4\n"
          ],
          "name": "stdout"
        }
      ]
    },
    {
      "cell_type": "markdown",
      "metadata": {
        "id": "_OztOT-NhUp9"
      },
      "source": [
        "### 2. Comparison Operation (관계연산자)\r\n",
        "\r\n",
        "\r\n",
        "---\r\n",
        "\r\n",
        "\r\n",
        "```\r\n",
        "==     Equal To\r\n",
        ">      Greater Than\r\n",
        ">=     Greater Than or Equal To\r\n",
        "<      Less Than\r\n",
        "<=     Less Than or Equal To\r\n",
        "!=     Not Equal\r\n",
        "is     object identity\r\n",
        "is not negated object identity\r\n",
        "```\r\n",
        "\r\n"
      ]
    },
    {
      "cell_type": "markdown",
      "metadata": {
        "id": "AKbNKCzpUJUz"
      },
      "source": [
        ""
      ]
    },
    {
      "cell_type": "markdown",
      "metadata": {
        "id": "b153O189hpya"
      },
      "source": [
        "### 3. Boolean Operation (논리연산자)\r\n",
        "\r\n",
        "```\r\n",
        "x or y    if x is false, then y, else x\r\n",
        "\r\n",
        "This is a short-circuit operator, so it only evaluates the second argument if the first one is false.\r\n",
        "```\r\n",
        "---\r\n",
        "```\r\n",
        "x and y   if x is false, then x, else y\r\n",
        "\r\n",
        "This is a short-circuit operator, so it only evaluates the second argument if the first one is true.\r\n",
        "```\r\n",
        "---\r\n",
        "```\r\n",
        "not x     if x is false, then True, else False\r\n",
        "\r\n",
        "This is a short-circuit operator, so it only evaluates the second argument if the first one is true.\r\n",
        "\r\n",
        "not has a lower priority than non-Boolean operators, so not a == b is interpreted as not (a == b), and a == not b is a syntax error.\r\n",
        "```\r\n",
        "\r\n"
      ]
    },
    {
      "cell_type": "markdown",
      "metadata": {
        "id": "aVu9N8ppUwUw"
      },
      "source": [
        "논리 연산자는 산술연산자보다 우선순위가 낮다.\r\n"
      ]
    },
    {
      "cell_type": "code",
      "metadata": {
        "id": "anDgyybiUvr3"
      },
      "source": [
        ""
      ],
      "execution_count": null,
      "outputs": []
    },
    {
      "cell_type": "markdown",
      "metadata": {
        "id": "i0vnwK4rVIjg"
      },
      "source": [
        "진릿값의 결과로 참이면 True, 거짓이면 False를 돌려준다. True 는 1, False 는 0을 가진다.\r\n",
        "```\r\n",
        "아래는 모두 False 값으로 리턴되면, 나머지는 전부 True 이다.\r\n",
        "\r\n",
        "0, 0.0 , 0L, 0.0 + 0.0 # 0인 실수값\r\n",
        "\" \", [], (), {} , None # 빈값\r\n",
        "```\r\n",
        "논리식의 계산 순서\r\n",
        "\r\n",
        "\r\n",
        "```\r\n",
        " True and True     True\r\n",
        " True and False    False\r\n",
        " 1 and 1           True\r\n",
        " 1 and 0           False\r\n",
        " True or False     True\r\n",
        " ```\r\n",
        "\r\n",
        "\r\n"
      ]
    },
    {
      "cell_type": "markdown",
      "metadata": {
        "id": "2xdW1fhPWxNF"
      },
      "source": [
        "### 4. 비트 연산자\r\n",
        "\r\n",
        "추후에 다루기로 하자!!\r\n"
      ]
    },
    {
      "cell_type": "markdown",
      "metadata": {
        "id": "Yi3I0gjXX5Pt"
      },
      "source": [
        "### 연산자 우선순위\r\n",
        "\r\n",
        "파이썬3 바이블 p 130 참조"
      ]
    },
    {
      "cell_type": "markdown",
      "metadata": {
        "id": "hx4mAyO7XLtM"
      },
      "source": [
        "# Sequence Type( 스퀀스 타입 )\r\n",
        "\r\n",
        "1. list\r\n",
        "\r\n",
        "2. tuple\r\n",
        "\r\n",
        "3. range\r\n",
        "\r\n",
        "4. binary data\r\n",
        "\r\n",
        "5. text strings\r\n",
        "\r\n",
        "\r\n",
        "\r\n"
      ]
    },
    {
      "cell_type": "markdown",
      "metadata": {
        "id": "ZumjrAORXMJC"
      },
      "source": [
        "## Common Sequence Operation\r\n",
        "\r\n",
        "```\r\n",
        "x in s  :  True if an item of s is equal to x, else False\r\n",
        "\r\n",
        "x not in s  :  False if an item of s is equal to x, else True\r\n",
        "\r\n",
        "s + t  :  the concatenation of s and t\r\n",
        "\r\n",
        "s * n or n * s  :  equivalent to adding s to itself n times\r\n",
        "\r\n",
        "s[i]  :  ith item of s, origin 0\r\n",
        "\r\n",
        "s[i:j]  :  slice of s from i to j\r\n",
        "\r\n",
        "s[i:j:k]  :  slice of s from i to j with step k\r\n",
        "\r\n",
        "len(s)  :  length of s\r\n",
        "\r\n",
        "min(s)  :  smallest item of s\r\n",
        "\r\n",
        "max(s)  :  largest item of s\r\n",
        "\r\n",
        "s.index(x[, i[, j]])  :  index of the first occurrence of x in s (at or after index i and before index j)\r\n",
        "\r\n",
        "s.count(x)  :  total number of occurrences of x in s\r\n",
        "```\r\n",
        "\r\n"
      ]
    },
    {
      "cell_type": "code",
      "metadata": {
        "id": "zfrgy7sYQ7YZ",
        "colab": {
          "base_uri": "https://localhost:8080/",
          "height": 105
        },
        "outputId": "ed73daa6-f223-4989-b0ba-23a18d144a80"
      },
      "source": [
        "#인덱싱 [k] 형식 : k 번 위치의 값 하나를 취한다.\r\n",
        "\r\n",
        "s= 'abcdef' \r\n",
        "l = ['123','342','567', '789']\r\n",
        "print(s[2])\r\n",
        "print(l[2])\r\n",
        "print(s[-1])\r\n",
        "print(l[-1])\r\n",
        "l[-1] = '900' # 치환\r\n",
        "l[-1]"
      ],
      "execution_count": null,
      "outputs": [
        {
          "output_type": "stream",
          "text": [
            "c\n",
            "567\n",
            "f\n",
            "789\n"
          ],
          "name": "stdout"
        },
        {
          "output_type": "execute_result",
          "data": {
            "application/vnd.google.colaboratory.intrinsic+json": {
              "type": "string"
            },
            "text/plain": [
              "'900'"
            ]
          },
          "metadata": {
            "tags": []
          },
          "execution_count": 1
        }
      ]
    },
    {
      "cell_type": "code",
      "metadata": {
        "colab": {
          "base_uri": "https://localhost:8080/"
        },
        "id": "PAQlvQFAbNNe",
        "outputId": "e16dd3b2-7a70-4ec4-bcb7-81ac276196df"
      },
      "source": [
        "# 슬라이싱 [s:t:p] 형식  : s부터 t사이 구간의 값을 p 간격으로 취한다.\r\n",
        "\r\n",
        "s= 'abcdef' \r\n",
        "l = ['123','342','567', '789']\r\n",
        "print(s[1:3])\r\n",
        "print(s[1:])\r\n",
        "print(s[::2])  # 처음부터 끝까지 짝수번째 \r\n",
        "print(s[:-1])  # 처음부터 마지막 전까지\r\n",
        "print(s[-100:100]) # 범위를 넘어서면 범위 내의 값으로 자동으로 처리한다."
      ],
      "execution_count": null,
      "outputs": [
        {
          "output_type": "stream",
          "text": [
            "bc\n",
            "bcdef\n",
            "ace\n",
            "abcde\n"
          ],
          "name": "stdout"
        }
      ]
    },
    {
      "cell_type": "code",
      "metadata": {
        "colab": {
          "base_uri": "https://localhost:8080/"
        },
        "id": "X6iu0yaYcx4L",
        "outputId": "bad3577d-de67-4f36-85df-7b43bc9c1e8f"
      },
      "source": [
        "# 연결하기 concatenation 는 + 연산자로 같은 시퀀스 자료형인 두 객체를 연결하는 것이다.\r\n",
        "s = 'abs' + 'def'\r\n",
        "print(s)\r\n",
        "l = [1,2,3] + [4,5,6]\r\n",
        "print(l)"
      ],
      "execution_count": null,
      "outputs": [
        {
          "output_type": "stream",
          "text": [
            "absdef\n",
            "[1, 2, 3, 4, 5, 6]\n"
          ],
          "name": "stdout"
        }
      ]
    },
    {
      "cell_type": "code",
      "metadata": {
        "colab": {
          "base_uri": "https://localhost:8080/"
        },
        "id": "eYga2EOwdTAA",
        "outputId": "adde3e8e-01c5-4213-f772-e441dcdcf12e"
      },
      "source": [
        "# 반복하기 repetition 는 * 연산자를 이용하여 반복한다.\r\n",
        "s = 'abc'\r\n",
        "print(s*4)\r\n",
        "l = [1,2,3]\r\n",
        "print(l*3)"
      ],
      "execution_count": null,
      "outputs": [
        {
          "output_type": "stream",
          "text": [
            "abcabcabcabc\n",
            "[1, 2, 3, 1, 2, 3, 1, 2, 3]\n"
          ],
          "name": "stdout"
        }
      ]
    },
    {
      "cell_type": "code",
      "metadata": {
        "colab": {
          "base_uri": "https://localhost:8080/"
        },
        "id": "s2DChYMpdpFj",
        "outputId": "228ead25-da28-4945-af7e-d6af48d0e1ab"
      },
      "source": [
        "# 멤버 검사 in 을 이용하여 \r\n",
        "print('파' in '파이썬')\r\n",
        "t = (1,2,3,4,5)\r\n",
        "print(2 in t)\r\n",
        "print(10 not in t)"
      ],
      "execution_count": null,
      "outputs": [
        {
          "output_type": "stream",
          "text": [
            "True\n",
            "True\n",
            "True\n"
          ],
          "name": "stdout"
        }
      ]
    },
    {
      "cell_type": "code",
      "metadata": {
        "colab": {
          "base_uri": "https://localhost:8080/"
        },
        "id": "GZDnxP2oeUSw",
        "outputId": "bb190663-e620-43f6-8190-702179f33139"
      },
      "source": [
        "# 길이 정보\r\n",
        "\r\n",
        "s = '파이썬만세'\r\n",
        "print(len(s))\r\n",
        "l = [1,2,3]\r\n",
        "print(len(l))"
      ],
      "execution_count": null,
      "outputs": [
        {
          "output_type": "stream",
          "text": [
            "5\n",
            "3\n"
          ],
          "name": "stdout"
        }
      ]
    },
    {
      "cell_type": "markdown",
      "metadata": {
        "id": "6sKQzm28XMbJ"
      },
      "source": [
        "## Mutable Sequence Types\r\n",
        "\r\n",
        "\r\n",
        "```\r\n",
        "# s[i] = x  :  item i of s is replaced by x\r\n",
        "\r\n",
        "s[i:j] = t  :  slice of s from i to j is replaced by the contents of the iterable t\r\n",
        "\r\n",
        "del s[i:j]  :  same as s[i:j] = []\r\n",
        "\r\n",
        "s[i:j:k] = t  :  the elements of s[i:j:k] are replaced by those of t\r\n",
        "\r\n",
        "del s[i:j:k]  :  removes the elements of s[i:j:k] from the list\r\n",
        "\r\n",
        "s.append(x)  :  appends x to the end of the sequence (same as s[len(s):len(s)] = [x])\r\n",
        "\r\n",
        "s.clear()  :  removes all items from s (same as del s[:])\r\n",
        "\r\n",
        "s.copy()  :  creates a shallow copy of s (same as s[:])\r\n",
        "\r\n",
        "s.extend(t) or s += t  :  extends s with the contents of t (for the most part the same as s[len(s):len(s)] = t)\r\n",
        "\r\n",
        "s *= n  :  updates s with its contents repeated n times\r\n",
        "\r\n",
        "s.insert(i, x)  :  inserts x into s at the index given by i (same as s[i:i] = [x])\r\n",
        "\r\n",
        "s.pop([i])  :  retrieves the item at i and also removes it from s\r\n",
        "\r\n",
        "s.remove(x)  :  remove the first item from s where s[i] is equal to x\r\n",
        "\r\n",
        "s.reverse()   :  reverses the items of s in place\r\n",
        "```\r\n",
        "\r\n"
      ]
    },
    {
      "cell_type": "code",
      "metadata": {
        "colab": {
          "base_uri": "https://localhost:8080/"
        },
        "id": "hKOYxCCV4Xxv",
        "outputId": "f6d83ce5-d344-46e2-b539-3ae823673bd1"
      },
      "source": [
        "s = [1,2,3,4,5,6]\r\n",
        "print(s.pop(1)) # 지우고 뽑아 내는 역활.\r\n",
        "s.reverse()\r\n",
        "s"
      ],
      "execution_count": null,
      "outputs": [
        {
          "output_type": "stream",
          "text": [
            "2\n"
          ],
          "name": "stdout"
        },
        {
          "output_type": "execute_result",
          "data": {
            "text/plain": [
              "[6, 5, 4, 3, 1]"
            ]
          },
          "metadata": {
            "tags": []
          },
          "execution_count": 12
        }
      ]
    },
    {
      "cell_type": "markdown",
      "metadata": {
        "id": "d9z2k-q4XMsF"
      },
      "source": [
        "# 수치 자료형\r\n",
        "1. 정수형\r\n",
        "2. 실수형\r\n",
        "3. 복소수형\r\n",
        "4. 모듈을 활용하여 계산하기."
      ]
    },
    {
      "cell_type": "markdown",
      "metadata": {
        "id": "p-vUhhGDYVwb"
      },
      "source": [
        "## 내장 수치 연산 함수\r\n",
        "\r\n",
        "\r\n",
        "```\r\n",
        "abs(x)\r\n",
        "int(x)\r\n",
        "float(x)\r\n",
        "complex(re,im)\r\n",
        "c.conjugate()\r\n",
        "divmod(x,y)\r\n",
        "pow(x,y)\r\n",
        "max(iterable),min(iterable)    # String, Lists, tuples, dictionaries, and sets 는 iterable\r\n",
        "sum(iterable)\r\n",
        "```\r\n",
        "\r\n"
      ]
    },
    {
      "cell_type": "markdown",
      "metadata": {
        "id": "B16oT-UB8Yy9"
      },
      "source": [
        "정수,실수, 복수수형으로 변환하기"
      ]
    },
    {
      "cell_type": "code",
      "metadata": {
        "colab": {
          "base_uri": "https://localhost:8080/"
        },
        "id": "znq6j0Nb8d2z",
        "outputId": "380af61c-421d-4ed2-aa61-06b4200561c6"
      },
      "source": [
        "# 정수로 변환하기\r\n",
        "a = 3.54\r\n",
        "print(int(a))\r\n",
        "print(round(a))\r\n"
      ],
      "execution_count": null,
      "outputs": [
        {
          "output_type": "stream",
          "text": [
            "3\n",
            "4\n"
          ],
          "name": "stdout"
        }
      ]
    },
    {
      "cell_type": "code",
      "metadata": {
        "colab": {
          "base_uri": "https://localhost:8080/"
        },
        "id": "MkMIzbW48xc4",
        "outputId": "8b75e9db-ffa7-4132-9ef8-d627b0205700"
      },
      "source": [
        "# 실수로 변환하기\r\n",
        "a = 3\r\n",
        "print(type(a))\r\n",
        "print(type(float(a)))\r\n"
      ],
      "execution_count": null,
      "outputs": [
        {
          "output_type": "stream",
          "text": [
            "<class 'int'>\n",
            "<class 'float'>\n"
          ],
          "name": "stdout"
        }
      ]
    },
    {
      "cell_type": "code",
      "metadata": {
        "colab": {
          "base_uri": "https://localhost:8080/"
        },
        "id": "3RR2qb4q9A1q",
        "outputId": "94c87810-1819-4e59-80c0-d51736d76af2"
      },
      "source": [
        "# 복소수로 변환하기\r\n",
        "a = 3\r\n",
        "complex(a)"
      ],
      "execution_count": null,
      "outputs": [
        {
          "output_type": "execute_result",
          "data": {
            "text/plain": [
              "(3+0j)"
            ]
          },
          "metadata": {
            "tags": []
          },
          "execution_count": 24
        }
      ]
    },
    {
      "cell_type": "markdown",
      "metadata": {
        "id": "6EoqiSCv6O9u"
      },
      "source": [
        "## Integer ( 정수형 상수 ) \r\n"
      ]
    },
    {
      "cell_type": "markdown",
      "metadata": {
        "id": "YSGBYsu37wmc"
      },
      "source": [
        "정수형 상수는 10진수와 2진수, 8진수, 16진수 상수가 있다."
      ]
    },
    {
      "cell_type": "markdown",
      "metadata": {
        "id": "KSF1nSMv7bLy"
      },
      "source": [
        "\r\n",
        "진법의 수 변환 하기"
      ]
    },
    {
      "cell_type": "code",
      "metadata": {
        "colab": {
          "base_uri": "https://localhost:8080/"
        },
        "id": "9hcGFxFH6wS3",
        "outputId": "64ad099f-3ec9-4094-e5a1-4374faa3a5a0"
      },
      "source": [
        "# 5진수 123을 10 진법으로 표현하기\r\n",
        "int('123',5)"
      ],
      "execution_count": null,
      "outputs": [
        {
          "output_type": "execute_result",
          "data": {
            "text/plain": [
              "38"
            ]
          },
          "metadata": {
            "tags": []
          },
          "execution_count": 13
        }
      ]
    },
    {
      "cell_type": "code",
      "metadata": {
        "colab": {
          "base_uri": "https://localhost:8080/",
          "height": 35
        },
        "id": "yppVc5d67DMF",
        "outputId": "a3391660-e220-439e-fdd4-13c2cbd47776"
      },
      "source": [
        "bin(23) # 2진법으로 편환하기"
      ],
      "execution_count": null,
      "outputs": [
        {
          "output_type": "execute_result",
          "data": {
            "application/vnd.google.colaboratory.intrinsic+json": {
              "type": "string"
            },
            "text/plain": [
              "'0b10111'"
            ]
          },
          "metadata": {
            "tags": []
          },
          "execution_count": 14
        }
      ]
    },
    {
      "cell_type": "code",
      "metadata": {
        "colab": {
          "base_uri": "https://localhost:8080/",
          "height": 35
        },
        "id": "Yh9OP0fX7NBu",
        "outputId": "99f58d11-7c74-4d26-947a-adbead5bd712"
      },
      "source": [
        "oct(23) # 8진법으로 변환하기"
      ],
      "execution_count": null,
      "outputs": [
        {
          "output_type": "execute_result",
          "data": {
            "application/vnd.google.colaboratory.intrinsic+json": {
              "type": "string"
            },
            "text/plain": [
              "'0o27'"
            ]
          },
          "metadata": {
            "tags": []
          },
          "execution_count": 15
        }
      ]
    },
    {
      "cell_type": "code",
      "metadata": {
        "colab": {
          "base_uri": "https://localhost:8080/",
          "height": 35
        },
        "id": "Ul1kw79i7R1L",
        "outputId": "105cbc5b-f069-4732-8c48-9842cd2e39b2"
      },
      "source": [
        "hex(23) # 16진법으로 변환하기"
      ],
      "execution_count": null,
      "outputs": [
        {
          "output_type": "execute_result",
          "data": {
            "application/vnd.google.colaboratory.intrinsic+json": {
              "type": "string"
            },
            "text/plain": [
              "'0x17'"
            ]
          },
          "metadata": {
            "tags": []
          },
          "execution_count": 16
        }
      ]
    },
    {
      "cell_type": "markdown",
      "metadata": {
        "id": "EFa6RtEPOXy_"
      },
      "source": [
        ""
      ]
    },
    {
      "cell_type": "markdown",
      "metadata": {
        "id": "G_FWhdj09sum"
      },
      "source": [
        "## Float ( 실수형 상수 )\r\n",
        "실수형 상수는 소수점을 포함하거나 e 나 E로 지수를 포함한다.\r\n",
        "컴퓨터에서는 실수를 부동 소수점(Floating Point) 방식으로 표한하기 떄문에 부동 \r\n",
        "소수점형이라고 부른다. "
      ]
    },
    {
      "cell_type": "code",
      "metadata": {
        "colab": {
          "base_uri": "https://localhost:8080/"
        },
        "id": "WP9f14VU-SsY",
        "outputId": "25abaa6b-beb5-48e2-94d9-31101de5fc9f"
      },
      "source": [
        "import sys\r\n",
        "sys.float_info"
      ],
      "execution_count": null,
      "outputs": [
        {
          "output_type": "execute_result",
          "data": {
            "text/plain": [
              "sys.float_info(max=1.7976931348623157e+308, max_exp=1024, max_10_exp=308, min=2.2250738585072014e-308, min_exp=-1021, min_10_exp=-307, dig=15, mant_dig=53, epsilon=2.220446049250313e-16, radix=2, rounds=1)"
            ]
          },
          "metadata": {
            "tags": []
          },
          "execution_count": 25
        }
      ]
    },
    {
      "cell_type": "code",
      "metadata": {
        "colab": {
          "base_uri": "https://localhost:8080/"
        },
        "id": "fQehm7vY-cj_",
        "outputId": "092ed472-3746-449d-a91a-971384a6a254"
      },
      "source": [
        "sys.float_info.max"
      ],
      "execution_count": null,
      "outputs": [
        {
          "output_type": "execute_result",
          "data": {
            "text/plain": [
              "1.7976931348623157e+308"
            ]
          },
          "metadata": {
            "tags": []
          },
          "execution_count": 26
        }
      ]
    },
    {
      "cell_type": "code",
      "metadata": {
        "colab": {
          "base_uri": "https://localhost:8080/"
        },
        "id": "OPhOv0N_-eme",
        "outputId": "431e5fa6-9d5b-4a61-fdce-c5e8401dcd60"
      },
      "source": [
        "sys.float_info.min"
      ],
      "execution_count": null,
      "outputs": [
        {
          "output_type": "execute_result",
          "data": {
            "text/plain": [
              "2.2250738585072014e-308"
            ]
          },
          "metadata": {
            "tags": []
          },
          "execution_count": 27
        }
      ]
    },
    {
      "cell_type": "markdown",
      "metadata": {
        "id": "VzvVIyXa-miz"
      },
      "source": [
        "inf : 무한대의 수 \r\n",
        "\r\n",
        "is_interger() : 실수형인 경우에 정수로 오차 없이 표현할 수 있는 값인지를 찾는 메서드"
      ]
    },
    {
      "cell_type": "code",
      "metadata": {
        "colab": {
          "base_uri": "https://localhost:8080/"
        },
        "id": "7c9h_yqn-3zc",
        "outputId": "258a2fa9-b322-4495-d976-7c188a8d9de7"
      },
      "source": [
        "float('inf')"
      ],
      "execution_count": null,
      "outputs": [
        {
          "output_type": "execute_result",
          "data": {
            "text/plain": [
              "inf"
            ]
          },
          "metadata": {
            "tags": []
          },
          "execution_count": 28
        }
      ]
    },
    {
      "cell_type": "code",
      "metadata": {
        "colab": {
          "base_uri": "https://localhost:8080/"
        },
        "id": "y3fIKf3J-6Y8",
        "outputId": "5546adb5-3e90-40e3-d558-083519192965"
      },
      "source": [
        "float('-inf')"
      ],
      "execution_count": null,
      "outputs": [
        {
          "output_type": "execute_result",
          "data": {
            "text/plain": [
              "-inf"
            ]
          },
          "metadata": {
            "tags": []
          },
          "execution_count": 29
        }
      ]
    },
    {
      "cell_type": "code",
      "metadata": {
        "colab": {
          "base_uri": "https://localhost:8080/"
        },
        "id": "ADUgHIfZ-7_1",
        "outputId": "d8b7979f-f571-4c1b-f265-1df24bb3379c"
      },
      "source": [
        "a = 1.2\r\n",
        "a.is_integer()"
      ],
      "execution_count": null,
      "outputs": [
        {
          "output_type": "execute_result",
          "data": {
            "text/plain": [
              "False"
            ]
          },
          "metadata": {
            "tags": []
          },
          "execution_count": 32
        }
      ]
    },
    {
      "cell_type": "code",
      "metadata": {
        "colab": {
          "base_uri": "https://localhost:8080/"
        },
        "id": "wOCeAYZH--zm",
        "outputId": "88b06ecb-d65f-453f-a016-77c8c26aa685"
      },
      "source": [
        "a = 3.0\r\n",
        "a.is_integer()"
      ],
      "execution_count": null,
      "outputs": [
        {
          "output_type": "execute_result",
          "data": {
            "text/plain": [
              "True"
            ]
          },
          "metadata": {
            "tags": []
          },
          "execution_count": 33
        }
      ]
    },
    {
      "cell_type": "markdown",
      "metadata": {
        "id": "5jLM-i2P_Tlv"
      },
      "source": [
        "실수 연산에서 발생하는 반올림 에러를 살펴보자. \r\n",
        "실수 연산은 특수한 경우를 제외하고는 항상 어느 정도의 오차를 포함 하고 있다고 보아야 한다."
      ]
    },
    {
      "cell_type": "code",
      "metadata": {
        "colab": {
          "base_uri": "https://localhost:8080/"
        },
        "id": "QXTOMnHn_eAD",
        "outputId": "35264ae1-8e95-49ab-ac93-5d6de4826938"
      },
      "source": [
        "e = 0.0\r\n",
        "for k in range(1000):\r\n",
        "  e += 0.1\r\n",
        "e"
      ],
      "execution_count": null,
      "outputs": [
        {
          "output_type": "execute_result",
          "data": {
            "text/plain": [
              "99.9999999999986"
            ]
          },
          "metadata": {
            "tags": []
          },
          "execution_count": 36
        }
      ]
    },
    {
      "cell_type": "markdown",
      "metadata": {
        "id": "DDhbpnXv_z73"
      },
      "source": [
        "아래의 다른 오차는 진법 변환에 의한 에러 때문이다."
      ]
    },
    {
      "cell_type": "code",
      "metadata": {
        "colab": {
          "base_uri": "https://localhost:8080/"
        },
        "id": "139Nene8_4Cg",
        "outputId": "6780cfde-9e19-416f-f169-d6da81e26e87"
      },
      "source": [
        "1.1+2.2"
      ],
      "execution_count": null,
      "outputs": [
        {
          "output_type": "execute_result",
          "data": {
            "text/plain": [
              "3.3000000000000003"
            ]
          },
          "metadata": {
            "tags": []
          },
          "execution_count": 37
        }
      ]
    },
    {
      "cell_type": "code",
      "metadata": {
        "colab": {
          "base_uri": "https://localhost:8080/"
        },
        "id": "YkuIW212_SP6",
        "outputId": "1d145627-5687-4c0f-d33a-ee2c696694f6"
      },
      "source": [
        "1.1*6"
      ],
      "execution_count": null,
      "outputs": [
        {
          "output_type": "execute_result",
          "data": {
            "text/plain": [
              "6.6000000000000005"
            ]
          },
          "metadata": {
            "tags": []
          },
          "execution_count": 38
        }
      ]
    },
    {
      "cell_type": "markdown",
      "metadata": {
        "id": "t5bITeQ69tKk"
      },
      "source": [
        "## Complex ( 복소수형 상수)\r\n",
        "실수부는 실수로 허수부는 i나 j 숫자 뒤에 붙여야한다.\r\n",
        "\r\n",
        "\r\n",
        "*   complex(a,b)\r\n",
        "*   c.real\r\n",
        "* c.imag\r\n",
        "* c.conjugate() # 켤레 복소수"
      ]
    },
    {
      "cell_type": "code",
      "metadata": {
        "colab": {
          "base_uri": "https://localhost:8080/"
        },
        "id": "cHGWLMhlAdxk",
        "outputId": "2dfd9194-0508-447e-ef85-b7d0926c00e6"
      },
      "source": [
        " a = 3\r\n",
        " b = 4\r\n",
        " c = complex(a,b)\r\n",
        " c\r\n",
        " "
      ],
      "execution_count": null,
      "outputs": [
        {
          "output_type": "execute_result",
          "data": {
            "text/plain": [
              "(3+4j)"
            ]
          },
          "metadata": {
            "tags": []
          },
          "execution_count": 41
        }
      ]
    },
    {
      "cell_type": "code",
      "metadata": {
        "colab": {
          "base_uri": "https://localhost:8080/"
        },
        "id": "jPnU4uBQAzHQ",
        "outputId": "2126d792-ce80-4fbb-92f8-3c909e2340da"
      },
      "source": [
        "c.real"
      ],
      "execution_count": null,
      "outputs": [
        {
          "output_type": "execute_result",
          "data": {
            "text/plain": [
              "3.0"
            ]
          },
          "metadata": {
            "tags": []
          },
          "execution_count": 42
        }
      ]
    },
    {
      "cell_type": "code",
      "metadata": {
        "colab": {
          "base_uri": "https://localhost:8080/"
        },
        "id": "TZPnBKn0A4x0",
        "outputId": "339cfab8-6a7d-430e-e715-63d38fad3e4f"
      },
      "source": [
        "c.imag"
      ],
      "execution_count": null,
      "outputs": [
        {
          "output_type": "execute_result",
          "data": {
            "text/plain": [
              "4.0"
            ]
          },
          "metadata": {
            "tags": []
          },
          "execution_count": 44
        }
      ]
    },
    {
      "cell_type": "code",
      "metadata": {
        "colab": {
          "base_uri": "https://localhost:8080/"
        },
        "id": "hy6x4DxhA_4D",
        "outputId": "697f3dc3-98a9-4f90-8ad6-c85f10cd8beb"
      },
      "source": [
        "c.conjugate()"
      ],
      "execution_count": null,
      "outputs": [
        {
          "output_type": "execute_result",
          "data": {
            "text/plain": [
              "(3-4j)"
            ]
          },
          "metadata": {
            "tags": []
          },
          "execution_count": 45
        }
      ]
    },
    {
      "cell_type": "markdown",
      "metadata": {
        "id": "KyP8ArNHXI9R"
      },
      "source": [
        "## 모듈을 사용한 연산\r\n",
        "1. math 모듈\r\n",
        "2. cmath 모듈"
      ]
    },
    {
      "cell_type": "markdown",
      "metadata": {
        "id": "5FYMoU4yZMc2"
      },
      "source": [
        "### Math 모듈\r\n",
        "\r\n",
        "\r\n",
        "\r\n",
        "```\r\n",
        "import math\r\n",
        "\r\n",
        "math.pi              파이의 상수값\r\n",
        "math.e               e(자연상수) 의 상수값\r\n",
        "math.tau             mathematical constant τ \r\n",
        "math.inf\r\n",
        "math.nan\r\n",
        "\r\n",
        "math.ceil(x)         올림\r\n",
        "math.fsum(iterable)  오차 없는 합\r\n",
        "\r\n",
        "math.comb(n, k)      nCk\r\n",
        "math.factorial(n)    n!\r\n",
        "\r\n",
        "math.log(x,a)       loga의 x\r\n",
        "math.log2(x)        log2의 x\r\n",
        "math.log10(x)       log10의 x\r\n",
        "math.pow(x,y)       제곱\r\n",
        "math.sqrt(2)         제곱근\r\n",
        "math.exp(x)         e의 x 승\r\n",
        "\r\n",
        "math.sin(rad)\r\n",
        "math.cos(rad)\r\n",
        "math.tan(rad)\r\n",
        "\r\n",
        "math.ceil(x)\r\n",
        "```\r\n",
        "\r\n"
      ]
    },
    {
      "cell_type": "code",
      "metadata": {
        "colab": {
          "base_uri": "https://localhost:8080/"
        },
        "id": "yfI3cgMMaN2e",
        "outputId": "07a94a20-bbb9-4986-da74-d8ff862f5c73"
      },
      "source": [
        "import math\r\n",
        "\r\n",
        "math.ceil(4.5)"
      ],
      "execution_count": null,
      "outputs": [
        {
          "output_type": "execute_result",
          "data": {
            "text/plain": [
              "5"
            ]
          },
          "metadata": {
            "tags": []
          },
          "execution_count": 17
        }
      ]
    },
    {
      "cell_type": "code",
      "metadata": {
        "colab": {
          "base_uri": "https://localhost:8080/",
          "height": 204
        },
        "id": "DtfyKzSsaWIC",
        "outputId": "a619f50b-7cbb-4658-98f9-797e06aec5c4"
      },
      "source": [
        "\r\n",
        "\r\n",
        "math.comb(4,2)"
      ],
      "execution_count": null,
      "outputs": [
        {
          "output_type": "error",
          "ename": "AttributeError",
          "evalue": "ignored",
          "traceback": [
            "\u001b[0;31m---------------------------------------------------------------------------\u001b[0m",
            "\u001b[0;31mAttributeError\u001b[0m                            Traceback (most recent call last)",
            "\u001b[0;32m<ipython-input-19-eee4849ab2d9>\u001b[0m in \u001b[0;36m<module>\u001b[0;34m()\u001b[0m\n\u001b[1;32m      1\u001b[0m \u001b[0;34m\u001b[0m\u001b[0m\n\u001b[1;32m      2\u001b[0m \u001b[0;34m\u001b[0m\u001b[0m\n\u001b[0;32m----> 3\u001b[0;31m \u001b[0mmath\u001b[0m\u001b[0;34m.\u001b[0m\u001b[0mcomb\u001b[0m\u001b[0;34m(\u001b[0m\u001b[0;36m4\u001b[0m\u001b[0;34m,\u001b[0m\u001b[0;36m2\u001b[0m\u001b[0;34m)\u001b[0m\u001b[0;34m\u001b[0m\u001b[0;34m\u001b[0m\u001b[0m\n\u001b[0m",
            "\u001b[0;31mAttributeError\u001b[0m: module 'math' has no attribute 'comb'"
          ]
        }
      ]
    },
    {
      "cell_type": "markdown",
      "metadata": {
        "id": "vKmR1PidBDf4"
      },
      "source": [
        "cmath 모듈을 사용한 복소수 연산"
      ]
    },
    {
      "cell_type": "code",
      "metadata": {
        "id": "o_cgdgALBG4b"
      },
      "source": [
        "import cmath"
      ],
      "execution_count": null,
      "outputs": []
    },
    {
      "cell_type": "markdown",
      "metadata": {
        "id": "wYQm5yN9Wyhw"
      },
      "source": [
        "## **Operator**"
      ]
    },
    {
      "cell_type": "markdown",
      "metadata": {
        "id": "Kos5J-gTetUc"
      },
      "source": [
        "# 문자열 <class 'str'>\r\n",
        "\r\n",
        "\r\n",
        "1.   문자열 정의하기\r\n",
        "2.   문자열 서식지정하기\r\n",
        "3.   문자열 메서드\r\n",
        "4.   유니코드 문자열과 바이트\r\n",
        "5.   \r\n",
        "\r\n"
      ]
    },
    {
      "cell_type": "markdown",
      "metadata": {
        "id": "rdNkAvfZgfbO"
      },
      "source": [
        "## 문자열 정의하기"
      ]
    },
    {
      "cell_type": "markdown",
      "metadata": {
        "id": "rOxBE8XLglCU"
      },
      "source": [
        "### 한줄 문자열, 여러줄 문자열\r\n",
        "\r\n",
        "\r\n",
        "*   ' ',\" \", \"\"\" \"\"\" 를 이용하여 정의한다.\r\n",
        "*   <class 'str'> 클래스 타입은 str 이다.\r\n",
        "*   \\ (백슬래시) 이용하여 특수 문자를 사용한다.\r\n"
      ]
    },
    {
      "cell_type": "code",
      "metadata": {
        "colab": {
          "base_uri": "https://localhost:8080/"
        },
        "id": "bfuQ2udcjhYN",
        "outputId": "ea172a90-06a9-4f5d-f8ae-e756675aba70"
      },
      "source": [
        "s = 'asdf'\r\n",
        "s1 = \"asdffd\"\r\n",
        "s2 = \"\"\"aaaaaaaaaaaaaaaaaaaaaaaaaaaaaaaaaaaaaaaaaaaaaaaaaaaaaaaaaaaaaaaaaa\"\"\"\r\n",
        "print(s)\r\n",
        "print(s1)\r\n",
        "print(s2)"
      ],
      "execution_count": null,
      "outputs": [
        {
          "output_type": "stream",
          "text": [
            "asdf\n",
            "asdffd\n",
            "aaaaaaaaaaaaaaaaaaaaaaaaaaaaaaaaaaaaaaaaaaaaaaaaaaaaaaaaaaaaaaaaaa\n",
            "<class 'str'>\n"
          ],
          "name": "stdout"
        },
        {
          "output_type": "execute_result",
          "data": {
            "text/plain": [
              "False"
            ]
          },
          "metadata": {
            "tags": []
          },
          "execution_count": 17
        }
      ]
    },
    {
      "cell_type": "code",
      "metadata": {
        "colab": {
          "base_uri": "https://localhost:8080/"
        },
        "id": "g3-UpWJzk0Nj",
        "outputId": "6289778b-d016-4139-f55c-f721da652777"
      },
      "source": [
        "# 타입 알아 보기\r\n",
        "s2 = 'sadf'\r\n",
        "print(type(s2))\r\n",
        "isinstance(s2, str)  # 타입을 확인하는 함수 : isinstance(대상, 타입)"
      ],
      "execution_count": null,
      "outputs": [
        {
          "output_type": "stream",
          "text": [
            "<class 'str'>\n"
          ],
          "name": "stdout"
        },
        {
          "output_type": "execute_result",
          "data": {
            "text/plain": [
              "True"
            ]
          },
          "metadata": {
            "tags": []
          },
          "execution_count": 19
        }
      ]
    },
    {
      "cell_type": "markdown",
      "metadata": {
        "id": "E83U2-sNlO5D"
      },
      "source": [
        "\\ 를 이용한 특수문자 사용.(백슬러시)\r\n",
        "\r\n",
        "*   \\Enter    : 다음 줄과 연속임을 표현\r\n",
        "*   \\\\        : \\ 문자 자체\r\n",
        "*   \\'        : ' 문자\r\n",
        "*   \\\"        : \" 문자\r\n",
        "*   \\b        : 백스페이스\r\n",
        "*   \\n        : 줄 바꾸기 \\012도 같은 역활\r\n",
        "*   \\t        : tab 키\r\n",
        "*   \\r        : 이전꺼는 지우고 이후부터만 출력\r\n",
        "*   \\0xx      : 8진수 코드 xx\r\n",
        "*   \\xXX      : 16진수 코드 XX\r\n",
        "*   \\e        :  Esc 키"
      ]
    },
    {
      "cell_type": "code",
      "metadata": {
        "colab": {
          "base_uri": "https://localhost:8080/"
        },
        "id": "Ir8mYA1Rj5lW",
        "outputId": "9a824fcb-d1a3-48f1-88a5-bec64c19b249"
      },
      "source": [
        "print('a\\\r\n",
        "')         # \\ 엔터\r\n",
        "print('\\\\') # \\ 문자 자체\r\n",
        "print('Don\\'t walk') # \\'\r\n",
        "print(\"She said \\\"i\\'m good\\\"\") #\\\"\r\n",
        "print('abc\\tdef\\t123\\t456') # \\t 탭키\r\n",
        "print('123\\n456\\n567')  # \\n 줄바꾸기"
      ],
      "execution_count": null,
      "outputs": [
        {
          "output_type": "stream",
          "text": [
            "a\n",
            "\\\n",
            "Don't walk\n",
            "She said \"i'm good\"\n",
            "abc\tdef\t123\t456\n",
            "123\n",
            "456\n",
            "567\n"
          ],
          "name": "stdout"
        }
      ]
    },
    {
      "cell_type": "code",
      "metadata": {
        "colab": {
          "base_uri": "https://localhost:8080/"
        },
        "id": "2HSJpUURoKsc",
        "outputId": "88c6261b-672d-4df8-9786-b506fa1fd397"
      },
      "source": [
        "# for 문과 문자열 과 print 함수\r\n",
        "a = '파이썬만만세'\r\n",
        "for i in a:\r\n",
        "  print(i) # default 값은 \\n 이다\r\n",
        "for i in a:\r\n",
        "  print(i, end =' ')\r\n",
        "print('\\n')\r\n",
        "for i in range(10):\r\n",
        "  print(i, end ='')\r\n",
        "print('\\n')\r\n",
        "for i in a:\r\n",
        "  print(i, end ='\\t')"
      ],
      "execution_count": null,
      "outputs": [
        {
          "output_type": "stream",
          "text": [
            "파\n",
            "이\n",
            "썬\n",
            "만\n",
            "만\n",
            "세\n",
            "파 이 썬 만 만 세 \n",
            "\n",
            "0123456789\n",
            "\n",
            "파\t이\t썬\t만\t만\t세\t"
          ],
          "name": "stdout"
        }
      ]
    },
    {
      "cell_type": "markdown",
      "metadata": {
        "id": "r3kmup3KiQDM"
      },
      "source": [
        "### 문자열 연산 \r\n",
        "\r\n",
        "스퀀스 타입 연산이 가능하다.\r\n",
        "\r\n",
        "*   '+'  를 이용한 문자열 붙이기\r\n",
        "*   '*'  를 이용한 반복하기\r\n",
        "*   [k]  인덱싱\r\n",
        "*   [k,s,t] 슬라이싱\r\n",
        "*   len  을 이용한 길이 정보\r\n",
        "*   in, not in 요소 확인\r\n",
        "\r\n",
        "*   문자열은 immutable 자료형이다 변경 불가! "
      ]
    },
    {
      "cell_type": "code",
      "metadata": {
        "colab": {
          "base_uri": "https://localhost:8080/",
          "height": 204
        },
        "id": "rnmAyhqMno3i",
        "outputId": "ddcd1f9c-02b9-4533-e3ef-65c9a819cc69"
      },
      "source": [
        "s = 'asdfgd'\r\n",
        "s[3] = '1' # immutable 에러가 난다. "
      ],
      "execution_count": null,
      "outputs": [
        {
          "output_type": "error",
          "ename": "TypeError",
          "evalue": "ignored",
          "traceback": [
            "\u001b[0;31m---------------------------------------------------------------------------\u001b[0m",
            "\u001b[0;31mTypeError\u001b[0m                                 Traceback (most recent call last)",
            "\u001b[0;32m<ipython-input-39-c13c5bdfc1e9>\u001b[0m in \u001b[0;36m<module>\u001b[0;34m()\u001b[0m\n\u001b[1;32m      1\u001b[0m \u001b[0ms\u001b[0m \u001b[0;34m=\u001b[0m \u001b[0;34m'asdfgd'\u001b[0m\u001b[0;34m\u001b[0m\u001b[0;34m\u001b[0m\u001b[0m\n\u001b[0;32m----> 2\u001b[0;31m \u001b[0ms\u001b[0m\u001b[0;34m[\u001b[0m\u001b[0;36m3\u001b[0m\u001b[0;34m]\u001b[0m \u001b[0;34m=\u001b[0m \u001b[0;34m'1'\u001b[0m \u001b[0;31m# immutable\u001b[0m\u001b[0;34m\u001b[0m\u001b[0;34m\u001b[0m\u001b[0m\n\u001b[0m\u001b[1;32m      3\u001b[0m \u001b[0ms\u001b[0m\u001b[0;34m.\u001b[0m\u001b[0mreplace\u001b[0m\u001b[0;34m(\u001b[0m\u001b[0mf\u001b[0m\u001b[0;34m,\u001b[0m\u001b[0;36m1\u001b[0m\u001b[0;34m)\u001b[0m\u001b[0;34m\u001b[0m\u001b[0;34m\u001b[0m\u001b[0m\n",
            "\u001b[0;31mTypeError\u001b[0m: 'str' object does not support item assignment"
          ]
        }
      ]
    },
    {
      "cell_type": "code",
      "metadata": {
        "colab": {
          "base_uri": "https://localhost:8080/"
        },
        "id": "6xfU2Bd1ra49",
        "outputId": "f9dbf704-e9e7-40f3-f797-2fae5a989062"
      },
      "source": [
        "s = 'asdfgd'\r\n",
        "s1 = s.replace('f','1') # 이와 같은 방법으로 새로운 변수로 지정해주어야 한다.\r\n",
        "print (s1)"
      ],
      "execution_count": null,
      "outputs": [
        {
          "output_type": "stream",
          "text": [
            "asd1gd\n"
          ],
          "name": "stdout"
        }
      ]
    },
    {
      "cell_type": "markdown",
      "metadata": {
        "id": "S6gUNKdKiTeD"
      },
      "source": [
        "## 포맷팅 ( String Formatting ) \r\n"
      ]
    },
    {
      "cell_type": "markdown",
      "metadata": {
        "id": "ARRtj4iYsKRy"
      },
      "source": [
        "### 서식 지정\r\n",
        "\r\n",
        "*  %s    : 문자열 \r\n",
        "*  %c    : 문자나 기호 한개에 대응됨\r\n",
        "*  %f    : 실수에 대응됨 .2f 소숫점 두자리만 출력한다는 의미\r\n",
        "*  %d    : 정수에 대응됨, 3d 는 세자리 정수를 출력한다는 의미\r\n",
        "*  %%    : % 라는 기호 자체를 표시함"
      ]
    },
    {
      "cell_type": "markdown",
      "metadata": {
        "id": "TTMXSd10tng9"
      },
      "source": [
        "파이선1,2 의 서식 지정 방법"
      ]
    },
    {
      "cell_type": "code",
      "metadata": {
        "colab": {
          "base_uri": "https://localhost:8080/"
        },
        "id": "G2-SFLZ-tljD",
        "outputId": "3aeb2028-69fb-460c-a436-8d844b42b7fd"
      },
      "source": [
        "int_val = 123456.123\r\n",
        "float_val = 2.123456\r\n",
        "print(\"%3d %s %0.2f\" % (int_val, 'any value', float_val))"
      ],
      "execution_count": null,
      "outputs": [
        {
          "output_type": "stream",
          "text": [
            "123456 any value 2.12\n"
          ],
          "name": "stdout"
        }
      ]
    },
    {
      "cell_type": "markdown",
      "metadata": {
        "id": "Iv9G8WeZu2Kc"
      },
      "source": [
        "f'{}' 방식으로 f 안에 단순히 변수를 불러 오는 방식이다."
      ]
    },
    {
      "cell_type": "code",
      "metadata": {
        "colab": {
          "base_uri": "https://localhost:8080/"
        },
        "id": "SYRajCVBv6Dt",
        "outputId": "05099898-6fea-4f4e-84e1-02296adefd67"
      },
      "source": [
        "int_val = 123456\r\n",
        "float_val = 2.123456\r\n",
        "print(f'{int_val} 은 정수 {float_val}은 실수')"
      ],
      "execution_count": null,
      "outputs": [
        {
          "output_type": "stream",
          "text": [
            "123456.123 은 정수 2.123456은 실수\n"
          ],
          "name": "stdout"
        }
      ]
    },
    {
      "cell_type": "markdown",
      "metadata": {
        "id": "a_0tfMScuugZ"
      },
      "source": [
        "format() 함수를 사용한 서식 지정"
      ]
    },
    {
      "cell_type": "code",
      "metadata": {
        "colab": {
          "base_uri": "https://localhost:8080/"
        },
        "id": "O0OnGrRSwYDs",
        "outputId": "5aa4a794-92e0-418a-844b-3c11602a214c"
      },
      "source": [
        "# format() 함수 기본 사용법\r\n",
        "int_val = 123456\r\n",
        "float_val = 2.123456\r\n",
        "print(format(int_val,'3d'),format(float_val,'3.2f')) # 3은 최소 자리보장수"
      ],
      "execution_count": null,
      "outputs": [
        {
          "output_type": "stream",
          "text": [
            "123456 2.12\n"
          ],
          "name": "stdout"
        }
      ]
    },
    {
      "cell_type": "code",
      "metadata": {
        "colab": {
          "base_uri": "https://localhost:8080/"
        },
        "id": "Kn4v8EnhwwPr",
        "outputId": "a0822fd7-78ce-4bf1-849c-21d32c15d0f1"
      },
      "source": [
        "# 천 단위마다 쉼표, 추가\r\n",
        "print(format(123456789,',d'))\r\n",
        "print(format(123456789.1234567,',.6f'))"
      ],
      "execution_count": null,
      "outputs": [
        {
          "output_type": "stream",
          "text": [
            "123,456,789\n",
            "123,456,789.123457\n"
          ],
          "name": "stdout"
        }
      ]
    },
    {
      "cell_type": "code",
      "metadata": {
        "colab": {
          "base_uri": "https://localhost:8080/"
        },
        "id": "mmXlTyXGxZQa",
        "outputId": "e4960920-a103-4d91-8418-0277a1b52ee3"
      },
      "source": [
        "# 여러 값을 출력할때 사용하는 방식 {} 은 데이터로 채워질 자리를 의미한다. 공급되는 순서대로 데이터를 출력한다.\r\n",
        "#''.format(튜플형)\r\n",
        "print('{}과{}'.format(23,23.12345))\r\n",
        "\r\n",
        "# 인덱싱으로 순서를 바꿀수 있따.\r\n",
        "print('{1}과{0}'.format(23,23.12345))\r\n",
        "\r\n",
        "# 중복 하여 쓸수 있다. \r\n",
        "print('{0}과{0}'.format(23,23.12345))\r\n",
        "\r\n",
        "#format 함수를 사용하기\r\n",
        "L = [1,4,5,3,2,6,6,10]\r\n",
        "print('최대값 : {0}, 최솟값 : {1}, 6의 갯수 : {2}'.format(max(L), min(L), L.count(6)))"
      ],
      "execution_count": null,
      "outputs": [
        {
          "output_type": "stream",
          "text": [
            "23과23.12345\n",
            "23.12345과23\n",
            "23과23\n",
            "최대값 : 10, 최솟값 : 1, 6의 갯수 : 2\n"
          ],
          "name": "stdout"
        }
      ]
    },
    {
      "cell_type": "code",
      "metadata": {
        "colab": {
          "base_uri": "https://localhost:8080/"
        },
        "id": "BUhlGsUl1bLg",
        "outputId": "b98201a0-a754-4778-8859-118a22baa5eb"
      },
      "source": [
        "# 자릿수 지정\r\n",
        "print('{:3}의 제곱근은 {:0.5}'.format(2, 2**0.5))\r\n",
        "# 인덱스와 자릿수 지정\r\n",
        "print('{0:3}의 제곱근은 {1:0.5}'.format(2, 2**0.5))\r\n",
        "# d : decimal, f : float\r\n",
        "print('{:3d}의 제곱근은 {:0.5f}'.format(2, 2**0.5))\r\n",
        "# 자릿수 표현\r\n",
        "print('{:,d}'.format(123456789))\r\n",
        "print('{:,.3f}'.format(12345678.0123))\r\n"
      ],
      "execution_count": null,
      "outputs": [
        {
          "output_type": "stream",
          "text": [
            "  2의 제곱근은 1.4142\n",
            "  2의 제곱근은 1.4142\n",
            "  2의 제곱근은 1.41421\n",
            "123,456,789\n",
            "12,345,678.012\n"
          ],
          "name": "stdout"
        }
      ]
    },
    {
      "cell_type": "code",
      "metadata": {
        "colab": {
          "base_uri": "https://localhost:8080/"
        },
        "id": "HxiqUgu14ymh",
        "outputId": "d93286d5-4b56-40d9-8013-58a1bb513a59"
      },
      "source": [
        "# 리스트가 인수로 전달\r\n",
        "L = [0,1,2,3,4,5,6,7,8]\r\n",
        "print('next value of {0[4]} is {0[5]}'.format(L))\r\n",
        "\r\n",
        "# 딕셔너리가 인수로 전달될 때는 format_map() 메서드를 사용하여 키로 참조한다.\r\n",
        "info = {'size':32, 'height':173}\r\n",
        "print('사이즈:{size}, 키{height}.format_map(info)')\r\n",
        "\r\n"
      ],
      "execution_count": null,
      "outputs": [
        {
          "output_type": "stream",
          "text": [
            "next value of 4 is 5\n",
            "사이즈:{size}, 키{height}.format_map(info)\n"
          ],
          "name": "stdout"
        }
      ]
    },
    {
      "cell_type": "code",
      "metadata": {
        "colab": {
          "base_uri": "https://localhost:8080/"
        },
        "id": "CmHvYKU954Rc",
        "outputId": "227ffa7c-5974-44b9-8784-44bbc60299b8"
      },
      "source": [
        "#모듈인 경우에는 이름으로 접근할수 있다.\r\n",
        "import math\r\n",
        "print('파이는 {0.pi:.2f}'.format(math))"
      ],
      "execution_count": null,
      "outputs": [
        {
          "output_type": "stream",
          "text": [
            "파이는 3.14\n"
          ],
          "name": "stdout"
        }
      ]
    },
    {
      "cell_type": "code",
      "metadata": {
        "colab": {
          "base_uri": "https://localhost:8080/"
        },
        "id": "JVzY1Td57tVV",
        "outputId": "49696b5c-12e8-4d66-80e3-71ee756a622e"
      },
      "source": [
        "# 다음은 0부터 360도까지 10도 간격으로 사인 값을 표로 만드는 예이다.\r\n",
        "from math import sin, pi, radians\r\n",
        "for deg in range(0,361,10):\r\n",
        "  rad = radians(deg)\r\n",
        "  print('sin({0:3d}) = {1:.5f}'.format(deg, sin(rad)))\r\n"
      ],
      "execution_count": null,
      "outputs": [
        {
          "output_type": "stream",
          "text": [
            "sin(  0) = 0.00000\n",
            "sin( 10) = 0.17365\n",
            "sin( 20) = 0.34202\n",
            "sin( 30) = 0.50000\n",
            "sin( 40) = 0.64279\n",
            "sin( 50) = 0.76604\n",
            "sin( 60) = 0.86603\n",
            "sin( 70) = 0.93969\n",
            "sin( 80) = 0.98481\n",
            "sin( 90) = 1.00000\n",
            "sin(100) = 0.98481\n",
            "sin(110) = 0.93969\n",
            "sin(120) = 0.86603\n",
            "sin(130) = 0.76604\n",
            "sin(140) = 0.64279\n",
            "sin(150) = 0.50000\n",
            "sin(160) = 0.34202\n",
            "sin(170) = 0.17365\n",
            "sin(180) = 0.00000\n",
            "sin(190) = -0.17365\n",
            "sin(200) = -0.34202\n",
            "sin(210) = -0.50000\n",
            "sin(220) = -0.64279\n",
            "sin(230) = -0.76604\n",
            "sin(240) = -0.86603\n",
            "sin(250) = -0.93969\n",
            "sin(260) = -0.98481\n",
            "sin(270) = -1.00000\n",
            "sin(280) = -0.98481\n",
            "sin(290) = -0.93969\n",
            "sin(300) = -0.86603\n",
            "sin(310) = -0.76604\n",
            "sin(320) = -0.64279\n",
            "sin(330) = -0.50000\n",
            "sin(340) = -0.34202\n",
            "sin(350) = -0.17365\n",
            "sin(360) = -0.00000\n"
          ],
          "name": "stdout"
        }
      ]
    },
    {
      "cell_type": "code",
      "metadata": {
        "colab": {
          "base_uri": "https://localhost:8080/"
        },
        "id": "BkGwbrv9-QnI",
        "outputId": "0c7d4f43-0814-4255-b7cb-59a7c7282daf"
      },
      "source": [
        "#보조 서식 문자\r\n",
        "\r\n",
        "# m : m 개의 최소 자리를 확보한다.\r\n",
        "print('{0:5s}'.format('egg'), '빈칸확인용')\r\n",
        "\r\n",
        "# m.n : m개의 쇠소 자리수를 확보하고, n개의 소수점 이하 자리를 출력한다.\r\n",
        "print('빈칸확인용','{0:10.2f}'.format(1234.1234),'빈칸확인용')\r\n",
        "\r\n",
        "# > , < : 왼쪽이나 오른쪽으로 맞추어서 출력한다.\r\n",
        "print ('{0:<5d}'.format(123),'빈칸확인용')\r\n",
        "print ('빈칸확인용', '{0:>5d}'.format(123))\r\n",
        "\r\n",
        "# +  : +/- 부호를 출력한다.\r\n",
        "print('{0:+d}'.format(123))\r\n",
        "\r\n",
        "# 공백 : 양수일 때 공백을 삽입한다.\r\n",
        "print( '{0: d}'.format(123))\r\n",
        "\r\n",
        "# 0 왼쪽 공간을 0으로 채운다.\r\n",
        "print( '{0:05d}'.format(123))"
      ],
      "execution_count": null,
      "outputs": [
        {
          "output_type": "stream",
          "text": [
            "egg   빈칸확인용\n",
            "빈칸확인용    1234.12 빈칸확인용\n",
            "123   빈칸확인용\n",
            "빈칸확인용   123\n",
            "+123\n",
            " 123\n",
            "00123\n"
          ],
          "name": "stdout"
        }
      ]
    },
    {
      "cell_type": "markdown",
      "metadata": {
        "id": "RC2QwmMWBfV-"
      },
      "source": [
        "## 문자열 메서드\r\n"
      ]
    },
    {
      "cell_type": "markdown",
      "metadata": {
        "id": "kukaNu6XBmj_"
      },
      "source": [
        "### 대소문자 변환"
      ]
    },
    {
      "cell_type": "code",
      "metadata": {
        "colab": {
          "base_uri": "https://localhost:8080/"
        },
        "id": "WgT943SRBtkV",
        "outputId": "0354d4ae-f265-4e08-d4f3-4c2afc24ea17"
      },
      "source": [
        "s = 'i like python'\r\n",
        "print(s.upper())\r\n",
        "print(s.lower())\r\n",
        "print(s.capitalize())       # 문자열의 처음만 대문자로\r\n",
        "print(s.title())            # 타이틀 형식으로 \r\n",
        "print(s.title().swapcase()) # 뒤집기"
      ],
      "execution_count": null,
      "outputs": [
        {
          "output_type": "stream",
          "text": [
            "I LIKE PYTHON\n",
            "i like python\n",
            "I like python\n",
            "i lIKE pYTHON\n",
            "I Like Python\n"
          ],
          "name": "stdout"
        }
      ]
    },
    {
      "cell_type": "markdown",
      "metadata": {
        "id": "M4lJrPT_Cgh1"
      },
      "source": [
        "### 검색에 관련되 메서드"
      ]
    },
    {
      "cell_type": "code",
      "metadata": {
        "colab": {
          "base_uri": "https://localhost:8080/"
        },
        "id": "ghg9cyitCkrb",
        "outputId": "bd47fcf6-c759-4d0f-e859-c31b28eed9fd"
      },
      "source": [
        "s = 'abcde123456abcde'\r\n",
        "print(s.count('a'))\r\n",
        "print(s.find('a'))   # 문자열 s  에서 처음으로 a 가 나오는 인덱스\r\n",
        "print(s.find('a',1)) # 1번째 인덱스로 부터 몇번째 \r\n",
        "print(type(s.find('a'))) # count, find 는 인덱스 값을 보내주고 클래스는 int 형이다.\r\n",
        "print(s.find('z'))      # 없다면 -1 를 출력한다.\r\n",
        "print(s.rfind('a'))     # 뒤에서 부터 처음으로 나오는  a 를 찾아준다. 결과값은 보통 인덱스 값을 출력한다.\r\n",
        "print(s.index('a'))     # find와 같은 방식이지만\r\n",
        "print(s.rindex('a'))\r\n",
        "# print(s.index('z'))     # 없다면 ValueError를 출력한다.\r\n",
        "print(s.startswith('abc'))\r\n",
        "print(s.startswith('abc',11))\r\n",
        "print(s.endswith('cde'))\r\n",
        "print(s.endswith('abc',0,14))   # 0과 14 사이의 문자열이 abc로 끝나니?"
      ],
      "execution_count": null,
      "outputs": [
        {
          "output_type": "stream",
          "text": [
            "2\n",
            "0\n",
            "11\n",
            "<class 'int'>\n",
            "-1\n",
            "11\n",
            "0\n",
            "11\n",
            "True\n",
            "True\n",
            "True\n",
            "True\n"
          ],
          "name": "stdout"
        }
      ]
    },
    {
      "cell_type": "markdown",
      "metadata": {
        "id": "118_vntGE1zT"
      },
      "source": [
        "### 편집과 친화에 관련된 메서드\r\n"
      ]
    },
    {
      "cell_type": "code",
      "metadata": {
        "colab": {
          "base_uri": "https://localhost:8080/"
        },
        "id": "duBE78iSELSO",
        "outputId": "6c6d1fbc-3130-4ab0-e77d-0b26149593ae"
      },
      "source": [
        "s = '    ><><you , me and us><><hehe><><    '\r\n",
        "print(s)\r\n",
        "print(s.strip())\r\n",
        "print(s.lstrip())\r\n",
        "print(s.rstrip())\r\n",
        "u = s.strip()\r\n",
        "print(u.strip('><'))\r\n",
        "print(u.replace('><','ㅎ'))"
      ],
      "execution_count": null,
      "outputs": [
        {
          "output_type": "stream",
          "text": [
            "    ><><you , me and us><><hehe><><    \n",
            "><><you , me and us><><hehe><><\n",
            "><><you , me and us><><hehe><><    \n",
            "    ><><you , me and us><><hehe><><\n",
            "you , me and us><><hehe\n",
            "ㅎㅎyou , me and usㅎㅎheheㅎㅎ\n"
          ],
          "name": "stdout"
        }
      ]
    },
    {
      "cell_type": "markdown",
      "metadata": {
        "id": "PmldEFOnGUtJ"
      },
      "source": [
        "### 문자열의 분리와 결합에 관련된 메서드\r\n",
        "\r\n"
      ]
    },
    {
      "cell_type": "code",
      "metadata": {
        "colab": {
          "base_uri": "https://localhost:8080/"
        },
        "id": "P2V5ptIzGtoo",
        "outputId": "5ffd49b3-80d3-477a-e70c-18de5526d70c"
      },
      "source": [
        "s = 'i love programming'\r\n",
        "u = \"\"\"i love python\r\n",
        "i love cooking\r\n",
        "i love watching movie\"\"\"\r\n",
        "\r\n",
        "print(s)\r\n",
        "print(u)\r\n",
        "print(s.split())\r\n",
        "print(s.split('o'))\r\n",
        "print(u.split())\r\n",
        "print(u.splitlines())\r\n",
        "\r\n",
        "# 결합 join\r\n",
        "s = s.split()\r\n",
        "t = ':'\r\n",
        "print(t.join(s))\r\n",
        "print('\\t'.join(s))\r\n",
        "\r\n",
        "print(u.split(' ',2))  # ' ' (뛰어쓰기)로 2번만 분리한다.\r\n",
        "print(u.rsplit(' ',2)) # 뒤에서 부터 2번만"
      ],
      "execution_count": null,
      "outputs": [
        {
          "output_type": "stream",
          "text": [
            "i love programming\n",
            "i love python\n",
            "i love cooking\n",
            "i love watching movie\n",
            "['i', 'love', 'programming']\n",
            "['i l', 've pr', 'gramming']\n",
            "['i', 'love', 'python', 'i', 'love', 'cooking', 'i', 'love', 'watching', 'movie']\n",
            "['i love python', 'i love cooking', 'i love watching movie']\n",
            "i:love:programming\n",
            "i\tlove\tprogramming\n",
            "['i', 'love', 'python\\ni love cooking\\ni love watching movie']\n",
            "['i love python\\ni love cooking\\ni love', 'watching', 'movie']\n"
          ],
          "name": "stdout"
        }
      ]
    },
    {
      "cell_type": "markdown",
      "metadata": {
        "id": "S1o-0J4bE05g"
      },
      "source": [
        "### 정렬"
      ]
    },
    {
      "cell_type": "code",
      "metadata": {
        "colab": {
          "base_uri": "https://localhost:8080/"
        },
        "id": "_Xq6m5jwJ4FU",
        "outputId": "2e8e0adf-f06d-4e64-b0a4-79c109379569"
      },
      "source": [
        "u = 'spam and egg'\r\n",
        "print(u.center(60))\r\n",
        "print(u.ljust(60))\r\n",
        "print(u.rjust(60))\r\n",
        "print(u.center(30,'-'))\r\n"
      ],
      "execution_count": null,
      "outputs": [
        {
          "output_type": "stream",
          "text": [
            "                        spam and egg                        \n",
            "spam and egg                                                \n",
            "                                                spam and egg\n",
            "---------spam and egg---------\n"
          ],
          "name": "stdout"
        }
      ]
    },
    {
      "cell_type": "markdown",
      "metadata": {
        "id": "9o_bMz7PKMmH"
      },
      "source": [
        "### 문자열의 판별 isalpha()"
      ]
    },
    {
      "cell_type": "code",
      "metadata": {
        "colab": {
          "base_uri": "https://localhost:8080/"
        },
        "id": "EOS7CGkoKSDL",
        "outputId": "bd6c5fa6-b604-443d-a7fd-9ee961b3ac8f"
      },
      "source": [
        "print('1234'.isdigit()) # 문자열이 숫자인가?\r\n",
        "print('123\\u2155\\u2156')\r\n",
        "print('123\\u2155\\u2156'.isnumeric()) # 문자열이 유니코드 수치 혹은 일반 수치 문자인가?\r\n",
        "print('123\\u0661')   # \\u0661은 아라빅 숫자 1을 나타내는 유니코드이다.\r\n",
        "print('123\\u0661'.isdecimal()) # 일반 수치 혹은 유니코드 수치 문자인가?\r\n",
        "print('abcd한글'.isalpha())   # 문자열이 영문자 혹은 유니코드 Letter 문자인가?\r\n",
        "print('1abc234'.isalnum())     # 문자열이 숫자나 영문자 혹은 유니코드 Letter문자인가?\r\n",
        "print('abc'.islower(), 'ABC'.isupper())\r\n",
        "print('\\n\\r\\n'.isspace()) # 공백 문자인가?\r\n",
        "print('This Is A Title'.istitle())\r\n",
        "print('\\n\\t'.isspace())\r\n",
        "print('def'.isidentifier()) # 문자열이 예약어인가?\r\n",
        "print(' \\n\\t'.isprintable())  # 문자열이 인쇄 가능한 문자들의 모임인가?"
      ],
      "execution_count": null,
      "outputs": [
        {
          "output_type": "stream",
          "text": [
            "True\n",
            "123⅕⅖\n",
            "True\n",
            "123١\n",
            "True\n",
            "True\n",
            "True\n",
            "True True\n",
            "True\n",
            "True\n",
            "True\n",
            "True\n",
            "False\n"
          ],
          "name": "stdout"
        }
      ]
    },
    {
      "cell_type": "markdown",
      "metadata": {
        "id": "el0coWYONB-k"
      },
      "source": [
        "## 유니코드 문자열과 바이트\r\n",
        "\r\n",
        "파이썬 3와 유니코드\r\n"
      ]
    },
    {
      "cell_type": "markdown",
      "metadata": {
        "id": "eiQZ0AqJNJtg"
      },
      "source": [
        "### 인코딩 과 바이트\r\n",
        "*  UTF - 8\r\n",
        "*  UTF - 16\r\n",
        "*  UTF - 32\r\n",
        "*  cp949\r\n",
        "*  encode\r\n",
        "*  decode\r\n",
        "*  ord() 함수와 chr() 함수\r\n",
        "*  bytes.fromhex"
      ]
    },
    {
      "cell_type": "markdown",
      "metadata": {
        "id": "CX9dMIGZOrJu"
      },
      "source": [
        "# 리스트 <class 'list'>"
      ]
    },
    {
      "cell_type": "code",
      "metadata": {
        "colab": {
          "base_uri": "https://localhost:8080/"
        },
        "id": "9hgaCv-2O2zD",
        "outputId": "2ed212ea-ce39-400a-e33d-caa01831d1da"
      },
      "source": [
        "print(type([]))"
      ],
      "execution_count": null,
      "outputs": [
        {
          "output_type": "stream",
          "text": [
            "<class 'list'>\n"
          ],
          "name": "stdout"
        }
      ]
    },
    {
      "cell_type": "markdown",
      "metadata": {
        "id": "cXyVWTClN9lK"
      },
      "source": [
        "## 리스트의 연산\r\n",
        "\r\n",
        "\r\n",
        "1.   리스트 생성\r\n",
        "2.   len 과 in\r\n",
        "2.   인덱싱           [n]\r\n",
        "3.   슬라이싱         [n:t:k]\r\n",
        "4.   반복과 연결하기   * , +\r\n",
        "4.   mutable\r\n",
        "5.   치환\r\n",
        "6.   삭제\r\n",
        "7.   추가\r\n",
        "\r\n",
        "\r\n"
      ]
    },
    {
      "cell_type": "code",
      "metadata": {
        "colab": {
          "base_uri": "https://localhost:8080/"
        },
        "id": "jENIQg09OB63",
        "outputId": "8a6175cd-1f8a-4332-f09d-60507f267f85"
      },
      "source": [
        " # 리스트 생성\r\n",
        " a= [] # 빈 리스트도 리스트 이다.\r\n",
        " print(type(a))\r\n",
        " b = (3,2)\r\n",
        "list(b)   # list 를 이용해서 튜플을 리스트 객체로 바꿈"
      ],
      "execution_count": null,
      "outputs": [
        {
          "output_type": "stream",
          "text": [
            "<class 'list'>\n"
          ],
          "name": "stdout"
        },
        {
          "output_type": "execute_result",
          "data": {
            "text/plain": [
              "[3, 2]"
            ]
          },
          "metadata": {
            "tags": []
          },
          "execution_count": 23
        }
      ]
    },
    {
      "cell_type": "code",
      "metadata": {
        "colab": {
          "base_uri": "https://localhost:8080/"
        },
        "id": "3sVlwRVPV7Px",
        "outputId": "e8b5e325-e12c-4889-a0c2-1e6b5f1cfcbc"
      },
      "source": [
        "a = [1,2,3]\r\n",
        "len(a)"
      ],
      "execution_count": null,
      "outputs": [
        {
          "output_type": "execute_result",
          "data": {
            "text/plain": [
              "3"
            ]
          },
          "metadata": {
            "tags": []
          },
          "execution_count": 38
        }
      ]
    },
    {
      "cell_type": "code",
      "metadata": {
        "colab": {
          "base_uri": "https://localhost:8080/"
        },
        "id": "RPz2ASiDV-Rn",
        "outputId": "1eacc903-5986-4e34-8eff-f8d36bec2d60"
      },
      "source": [
        "a = ['a','b','c']\r\n",
        "'c' in a"
      ],
      "execution_count": null,
      "outputs": [
        {
          "output_type": "execute_result",
          "data": {
            "text/plain": [
              "True"
            ]
          },
          "metadata": {
            "tags": []
          },
          "execution_count": 39
        }
      ]
    },
    {
      "cell_type": "code",
      "metadata": {
        "colab": {
          "base_uri": "https://localhost:8080/"
        },
        "id": "pmEcncqSOHs8",
        "outputId": "1631e2c6-cbab-4f9e-fa6a-af086acdc8b6"
      },
      "source": [
        "# 인덱싱 : 리스트에는 순서가 있고, 0 1 2 또는 -1 -2 -3 순서이다.\r\n",
        "a = [1,2,\"Great\"]\r\n",
        "print(a[2][2]) # 리스트의 요소의 인덱싱, 문자형의 인덱싱\r\n",
        "a[0:a[-2]] "
      ],
      "execution_count": null,
      "outputs": [
        {
          "output_type": "stream",
          "text": [
            "e\n"
          ],
          "name": "stdout"
        },
        {
          "output_type": "execute_result",
          "data": {
            "text/plain": [
              "[1, 2]"
            ]
          },
          "metadata": {
            "tags": []
          },
          "execution_count": 5
        }
      ]
    },
    {
      "cell_type": "code",
      "metadata": {
        "colab": {
          "base_uri": "https://localhost:8080/"
        },
        "id": "X5dNRGxjOeZn",
        "outputId": "d6760ad2-492c-46b5-cb78-593c57f93247"
      },
      "source": [
        "# 슬라이싱 [n:k:t] n부터 k까지 t번씩\r\n",
        "\r\n",
        "a = [i for i in range(8)]\r\n",
        "print(a[1:3])\r\n",
        "print(a[:3])\r\n",
        "print(a[::2])"
      ],
      "execution_count": null,
      "outputs": [
        {
          "output_type": "stream",
          "text": [
            "[1, 2]\n",
            "[0, 1, 2]\n",
            "[0, 2, 4, 6]\n"
          ],
          "name": "stdout"
        }
      ]
    },
    {
      "cell_type": "code",
      "metadata": {
        "colab": {
          "base_uri": "https://localhost:8080/"
        },
        "id": "2GzhAh9cTdor",
        "outputId": "9175fdc5-4df3-47b6-f32d-aae37d19c463"
      },
      "source": [
        "# 확장 슬라이싱\r\n",
        "\r\n",
        "a = list(range(4))\r\n",
        "a[::2]=list(range(-10,-12,-1))\r\n",
        "print(a)\r\n",
        "\r\n",
        "# a[::2]= list(range(3)) # ValueError: attempt to assign sequence of size 3 to extended slice of size 2\r\n",
        "# 오른쪽과 왼쪽 요소의 개수가 맞지 않는다.\r\n",
        "\r\n",
        "a = list(range(5))\r\n",
        "a[::2]= list(('a','b','c'))\r\n",
        "print(a)\r\n",
        "\r\n",
        "a = list(range(5))\r\n",
        "a[::-2]= list(('a','b','c'))\r\n",
        "print(a) # 갯수를 맞추어 주면 된다!!"
      ],
      "execution_count": null,
      "outputs": [
        {
          "output_type": "stream",
          "text": [
            "[-10, 1, -11, 3]\n",
            "['a', 1, 'b', 3, 'c']\n",
            "['c', 1, 'b', 3, 'a']\n"
          ],
          "name": "stdout"
        }
      ]
    },
    {
      "cell_type": "code",
      "metadata": {
        "colab": {
          "base_uri": "https://localhost:8080/"
        },
        "id": "s_MXqSGCPEnc",
        "outputId": "b6c3b1d0-4ff4-4265-c669-955ebbed35b9"
      },
      "source": [
        "# * 반복 과 연결하기\r\n",
        "a = [1,2,3,4,5]\r\n",
        "print(a*a[2])          #\r\n",
        "print(a+[a[0]]+[a[2]]) #  오직 리스트 끼리만 더할 수 있다.\r\n",
        "\r\n",
        "# 비교해보기\r\n",
        "a = [1,2,3]\r\n",
        "b = a*3\r\n",
        "c = [a]*3\r\n",
        "print(a)\r\n",
        "print(b)\r\n",
        "print(c)"
      ],
      "execution_count": null,
      "outputs": [
        {
          "output_type": "stream",
          "text": [
            "[1, 2, 3, 4, 5, 1, 2, 3, 4, 5, 1, 2, 3, 4, 5]\n",
            "[1, 2, 3, 4, 5, 1, 3]\n",
            "[1, 2, 3]\n",
            "[1, 2, 3, 1, 2, 3, 1, 2, 3]\n",
            "[[1, 2, 3], [1, 2, 3], [1, 2, 3]]\n"
          ],
          "name": "stdout"
        }
      ]
    },
    {
      "cell_type": "code",
      "metadata": {
        "colab": {
          "base_uri": "https://localhost:8080/"
        },
        "id": "5sTQGS3qPyT4",
        "outputId": "8c9e27bf-4cbb-4409-959b-ba050d1468a9"
      },
      "source": [
        "# list는 mutable \r\n",
        "a = ['a','b',100,456]\r\n",
        "a[2] = a[2] + 23\r\n",
        "\r\n",
        "a[2]"
      ],
      "execution_count": null,
      "outputs": [
        {
          "output_type": "execute_result",
          "data": {
            "text/plain": [
              "123"
            ]
          },
          "metadata": {
            "tags": []
          },
          "execution_count": 11
        }
      ]
    },
    {
      "cell_type": "code",
      "metadata": {
        "colab": {
          "base_uri": "https://localhost:8080/"
        },
        "id": "nG802Cs4RRXu",
        "outputId": "1fd931c2-85f8-46b3-d17b-d6a58d916fab"
      },
      "source": [
        "# 치환 : 삭제와 입력을 같이한다.\r\n",
        "\r\n",
        "a = ['a','b',100,456]\r\n",
        "\r\n",
        "a[0:2] = [2]  #  갯수가 달라도 가능하다.\r\n",
        "print(a)\r\n",
        "a[0:2] = [1,12]\r\n",
        "a"
      ],
      "execution_count": null,
      "outputs": [
        {
          "output_type": "stream",
          "text": [
            "[2, 100, 456]\n"
          ],
          "name": "stdout"
        },
        {
          "output_type": "execute_result",
          "data": {
            "text/plain": [
              "[1, 12, 456]"
            ]
          },
          "metadata": {
            "tags": []
          },
          "execution_count": 13
        }
      ]
    },
    {
      "cell_type": "code",
      "metadata": {
        "colab": {
          "base_uri": "https://localhost:8080/"
        },
        "id": "TNxkbr_lRyax",
        "outputId": "9a6a3e37-7f25-4ce9-eb43-d95ca2fcd475"
      },
      "source": [
        "# 삭제\r\n",
        "\r\n",
        "a = ['a','b',100,456]\r\n",
        "a[0] = [] # 빈리스트는 삭제를 의미한다.\r\n",
        "a\r\n"
      ],
      "execution_count": null,
      "outputs": [
        {
          "output_type": "execute_result",
          "data": {
            "text/plain": [
              "[[], 'b', 100, 456]"
            ]
          },
          "metadata": {
            "tags": []
          },
          "execution_count": 14
        }
      ]
    },
    {
      "cell_type": "code",
      "metadata": {
        "colab": {
          "base_uri": "https://localhost:8080/"
        },
        "id": "m_ML5vTmR7v0",
        "outputId": "ba01c81f-ede3-42a3-fa3a-a31912f0aecb"
      },
      "source": [
        "# del 로 삭제하기\r\n",
        "\r\n",
        "a = ['a','b',100,456]\r\n",
        "del a[0]\r\n",
        "a"
      ],
      "execution_count": null,
      "outputs": [
        {
          "output_type": "execute_result",
          "data": {
            "text/plain": [
              "['b', 100, 456]"
            ]
          },
          "metadata": {
            "tags": []
          },
          "execution_count": 15
        }
      ]
    },
    {
      "cell_type": "code",
      "metadata": {
        "colab": {
          "base_uri": "https://localhost:8080/"
        },
        "id": "s3qO77JpSFtl",
        "outputId": "4945d359-db64-4f09-8118-d98d0e7d60a1"
      },
      "source": [
        "# 추가하기\r\n",
        "\r\n",
        "a = [1,2]\r\n",
        "a[1:1] = ['a','b']\r\n",
        "print(a)\r\n",
        "a[4:4] = [3,4]\r\n",
        "print(a)"
      ],
      "execution_count": null,
      "outputs": [
        {
          "output_type": "stream",
          "text": [
            "[1, 'a', 'b', 2]\n",
            "[1, 'a', 'b', 2, 3, 4]\n"
          ],
          "name": "stdout"
        }
      ]
    },
    {
      "cell_type": "markdown",
      "metadata": {
        "id": "cr7oAC5WVDHm"
      },
      "source": [
        "##중첩 리스트  (Nested Lists)\r\n",
        "* 리스트 안에 또 다른 리스트가 포함되어 있는 경우 중첩 리스트\r\n"
      ]
    },
    {
      "cell_type": "code",
      "metadata": {
        "colab": {
          "base_uri": "https://localhost:8080/"
        },
        "id": "XRi-jj4oVcwc",
        "outputId": "5f4548d7-09f4-49d5-b6ca-dd175049200f"
      },
      "source": [
        "L = [1,[1,2],[[1],[1,2],[1,2,3]]]\r\n",
        "print(L[2][2][2])"
      ],
      "execution_count": null,
      "outputs": [
        {
          "output_type": "stream",
          "text": [
            "3\n"
          ],
          "name": "stdout"
        }
      ]
    },
    {
      "cell_type": "markdown",
      "metadata": {
        "id": "S8m6O_hMWKoK"
      },
      "source": [
        "## 리스트 메서드\r\n",
        "* 내장함수\r\n",
        "1. append  : 데이터를 리스트 끝에 추가(혹은 스택의 Push)한다.\r\n",
        "2. insert  : 데이터를 지정한 위치에 삽입한다.\r\n",
        "3. index   : 요소를 검색(Search) 한다.\r\n",
        "4. count   : 요소의 개수를 알아낸다.\r\n",
        "5. sort    : 리스트를 정렬한다.\r\n",
        "6. reverse : 리스트의 순서를 바꾼다.\r\n",
        "7. remove  : 리스트의 지정한 값 하나를 삭제한다.\r\n",
        "8. pop     : 리스트의 지정한 값 하나를 읽어 내고 삭제(스택의 Pop) 한다.\r\n",
        "9. extend  : 리스트를 추가한다."
      ]
    },
    {
      "cell_type": "code",
      "metadata": {
        "colab": {
          "base_uri": "https://localhost:8080/"
        },
        "id": "nMUnx2__XluX",
        "outputId": "72dffd41-ed34-4be2-897b-9df73c78fe5e"
      },
      "source": [
        "s = ['a','b','c']\r\n",
        "s.append('d')\r\n",
        "s"
      ],
      "execution_count": null,
      "outputs": [
        {
          "output_type": "execute_result",
          "data": {
            "text/plain": [
              "['a', 'b', 'c', 'd']"
            ]
          },
          "metadata": {
            "tags": []
          },
          "execution_count": 43
        }
      ]
    },
    {
      "cell_type": "code",
      "metadata": {
        "colab": {
          "base_uri": "https://localhost:8080/"
        },
        "id": "tJLRh6kTYQWt",
        "outputId": "c8e3a7bb-b76a-4e70-eb59-840e89c69d95"
      },
      "source": [
        "s = ['a','b','c']\r\n",
        "s.insert(1,'z') # insert(인덱스번호,추가할것)\r\n",
        "s"
      ],
      "execution_count": null,
      "outputs": [
        {
          "output_type": "execute_result",
          "data": {
            "text/plain": [
              "['a', 'z', 'b', 'c']"
            ]
          },
          "metadata": {
            "tags": []
          },
          "execution_count": 44
        }
      ]
    },
    {
      "cell_type": "code",
      "metadata": {
        "colab": {
          "base_uri": "https://localhost:8080/"
        },
        "id": "E71ZDsojYbzq",
        "outputId": "66deaf83-4aa9-4b86-effd-8ac6471ad9c2"
      },
      "source": [
        "s = ['a','b','c']\r\n",
        "s.index('b') # int 값으로 출력된다."
      ],
      "execution_count": null,
      "outputs": [
        {
          "output_type": "execute_result",
          "data": {
            "text/plain": [
              "1"
            ]
          },
          "metadata": {
            "tags": []
          },
          "execution_count": 45
        }
      ]
    },
    {
      "cell_type": "code",
      "metadata": {
        "colab": {
          "base_uri": "https://localhost:8080/"
        },
        "id": "0-bPDoM6YQMa",
        "outputId": "aff86537-afce-4efb-db17-e3a2884b9712"
      },
      "source": [
        "s = ['a','b','c','a']\r\n",
        "s.count('a')"
      ],
      "execution_count": null,
      "outputs": [
        {
          "output_type": "execute_result",
          "data": {
            "text/plain": [
              "2"
            ]
          },
          "metadata": {
            "tags": []
          },
          "execution_count": 46
        }
      ]
    },
    {
      "cell_type": "code",
      "metadata": {
        "id": "vJAS8N1xYQDd"
      },
      "source": [
        "#정렬, 순서뒤집기 (자세한 이야기는 밑에서 다시 다루기로 하자!)\r\n",
        "s.sort() # 변환값이 없다. s 변수에 영향을 미친다. 비교: s = sorted(s)\r\n",
        "s.reverse() #변환값이 없다. s 변수에 영향을 미친다. 비교: s =reversed(s)"
      ],
      "execution_count": null,
      "outputs": []
    },
    {
      "cell_type": "code",
      "metadata": {
        "colab": {
          "base_uri": "https://localhost:8080/"
        },
        "id": "BMuJfChMZLvd",
        "outputId": "674a8e16-86e8-468a-85f4-41ab0c5a750c"
      },
      "source": [
        "#값 삭제하기\r\n",
        "s = ['a','b','c','a']\r\n",
        "s.remove('a') # 인덱스 번호 가장 작은 것중에 한개만 지운다!\r\n",
        "s"
      ],
      "execution_count": null,
      "outputs": [
        {
          "output_type": "execute_result",
          "data": {
            "text/plain": [
              "['b', 'c', 'a']"
            ]
          },
          "metadata": {
            "tags": []
          },
          "execution_count": 48
        }
      ]
    },
    {
      "cell_type": "code",
      "metadata": {
        "colab": {
          "base_uri": "https://localhost:8080/"
        },
        "id": "GetW0vHpZhlX",
        "outputId": "27625837-57d7-4158-9ec0-6675fc43f16e"
      },
      "source": [
        "# 리스트에 리스트를 추가하기\r\n",
        "s = ['a','b','c','a']\r\n",
        "s.extend([1,2])\r\n",
        "print(s)\r\n",
        "s = s + [1,2]\r\n",
        "print(s)\r\n",
        "s.append([1,2]) # extend 와 append 와는 다른 기능이다.\r\n",
        "print(s)"
      ],
      "execution_count": null,
      "outputs": [
        {
          "output_type": "stream",
          "text": [
            "['a', 'b', 'c', 'a', 1, 2]\n",
            "['a', 'b', 'c', 'a', 1, 2, 1, 2]\n",
            "['a', 'b', 'c', 'a', 1, 2, 1, 2, [1, 2]]\n"
          ],
          "name": "stdout"
        }
      ]
    },
    {
      "cell_type": "markdown",
      "metadata": {
        "id": "UFtzbBtCXiGy"
      },
      "source": [
        "## 스택과 큐의 간단한 이해\r\n",
        "\r\n",
        "* 스택 : LIFO\r\n",
        "* 큐   : FIFO"
      ]
    },
    {
      "cell_type": "code",
      "metadata": {
        "colab": {
          "base_uri": "https://localhost:8080/"
        },
        "id": "YOkrS8dCXns1",
        "outputId": "49fcca9b-8795-461f-89e4-f73703d0c533"
      },
      "source": [
        "#스택\r\n",
        "a = [1,2,3,4,5,6]\r\n",
        "a.append(7)\r\n",
        "print(a)\r\n",
        "a.pop()\r\n",
        "a"
      ],
      "execution_count": null,
      "outputs": [
        {
          "output_type": "stream",
          "text": [
            "[1, 2, 3, 4, 5, 6, 7]\n"
          ],
          "name": "stdout"
        },
        {
          "output_type": "execute_result",
          "data": {
            "text/plain": [
              "[1, 2, 3, 4, 5, 6]"
            ]
          },
          "metadata": {
            "tags": []
          },
          "execution_count": 42
        }
      ]
    },
    {
      "cell_type": "code",
      "metadata": {
        "colab": {
          "base_uri": "https://localhost:8080/"
        },
        "id": "bukTRBE5X5jI",
        "outputId": "f27300e7-f6bc-4f3a-85c4-b077ae5cf8bd"
      },
      "source": [
        "# 큐\r\n",
        "a = [1,2,3,4,5,6]\r\n",
        "a.append(7)\r\n",
        "print(a)\r\n",
        "a.pop(0)\r\n",
        "a"
      ],
      "execution_count": null,
      "outputs": [
        {
          "output_type": "stream",
          "text": [
            "[1, 2, 3, 4, 5, 6, 7]\n"
          ],
          "name": "stdout"
        },
        {
          "output_type": "execute_result",
          "data": {
            "text/plain": [
              "[2, 3, 4, 5, 6, 7]"
            ]
          },
          "metadata": {
            "tags": []
          },
          "execution_count": 41
        }
      ]
    },
    {
      "cell_type": "markdown",
      "metadata": {
        "id": "n2QNsIOGaX1P"
      },
      "source": [
        "## 리스트 활용하기 \r\n",
        "* 리스트에 저장된 데이터가 리스트나 튜플과 같이 복합 자료형인 경우 데이터를 다루는 예를 보자. 먼저 리스트의 데이터가 튜플이고 이들을 출력한다면 다음과 같이 할수 있다."
      ]
    },
    {
      "cell_type": "code",
      "metadata": {
        "colab": {
          "base_uri": "https://localhost:8080/"
        },
        "id": "rELvH9ukapVt",
        "outputId": "f0aff97b-23b7-4ba8-c35b-1294caf45610"
      },
      "source": [
        "# 리스트와 튜플 그리고 포맷팅\r\n",
        "lt = [('one',1),('two',2),('three',3)]\r\n",
        "for t in lt:\r\n",
        "  print(t)\r\n",
        "for t in lt:\r\n",
        "  print('name={:7} num={}'.format(t[0],t[1]))\r\n",
        "print('다른 방법')\r\n",
        "for t in lt:\r\n",
        "  print('name={0[0]:7} num={0[1]:}'.format(t)) # 이해가 안간다면 포맷팅 편을 참조해주세요.\r\n",
        "print('다른 방법')\r\n",
        "for i,j in lt:\r\n",
        "  print('name={:7} num={}'.format(i,j)) "
      ],
      "execution_count": null,
      "outputs": [
        {
          "output_type": "stream",
          "text": [
            "('one', 1)\n",
            "('two', 2)\n",
            "('three', 3)\n",
            "name=one     num=1\n",
            "name=two     num=2\n",
            "name=three   num=3\n",
            "다른 방법\n",
            "name=one     num=1\n",
            "name=two     num=2\n",
            "name=three   num=3\n",
            "다른 방법\n",
            "name=one     num=1\n",
            "name=two     num=2\n",
            "name=three   num=3\n"
          ],
          "name": "stdout"
        }
      ]
    },
    {
      "cell_type": "code",
      "metadata": {
        "colab": {
          "base_uri": "https://localhost:8080/"
        },
        "id": "OqXo7JB3cH83",
        "outputId": "ddd0456b-d113-43d0-9008-3c9a2591095c"
      },
      "source": [
        "# nested list 활용\r\n",
        "nl = [['one',1],['two',2],['three',3]]\r\n",
        "for i,j in nl:\r\n",
        "  print(i,'는',j)"
      ],
      "execution_count": null,
      "outputs": [
        {
          "output_type": "stream",
          "text": [
            "one 는 1\n",
            "two 는 2\n",
            "three 는 3\n"
          ],
          "name": "stdout"
        }
      ]
    },
    {
      "cell_type": "markdown",
      "metadata": {
        "id": "SwnT6gwAdNaY"
      },
      "source": [
        "## 정렬하기\r\n"
      ]
    },
    {
      "cell_type": "code",
      "metadata": {
        "id": "YI5ONJIJdVWF"
      },
      "source": [
        ""
      ],
      "execution_count": null,
      "outputs": []
    },
    {
      "cell_type": "code",
      "metadata": {
        "id": "87wvqWSUdVQR"
      },
      "source": [
        ""
      ],
      "execution_count": null,
      "outputs": []
    },
    {
      "cell_type": "code",
      "metadata": {
        "id": "4tZLVqvvdVGd"
      },
      "source": [
        ""
      ],
      "execution_count": null,
      "outputs": []
    },
    {
      "cell_type": "markdown",
      "metadata": {
        "id": "ulb1goOrdT-X"
      },
      "source": [
        "## List Comprehension"
      ]
    }
  ]
}