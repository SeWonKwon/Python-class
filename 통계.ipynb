{
  "nbformat": 4,
  "nbformat_minor": 0,
  "metadata": {
    "colab": {
      "name": "통계.ipynb",
      "provenance": [],
      "authorship_tag": "ABX9TyMEPCHmqBBic4Xn+5j6B3Zz",
      "include_colab_link": true
    },
    "kernelspec": {
      "name": "python3",
      "display_name": "Python 3"
    }
  },
  "cells": [
    {
      "cell_type": "markdown",
      "metadata": {
        "id": "view-in-github",
        "colab_type": "text"
      },
      "source": [
        "<a href=\"https://colab.research.google.com/github/SeWonKwon/Python-class/blob/main/%ED%86%B5%EA%B3%84.ipynb\" target=\"_parent\"><img src=\"https://colab.research.google.com/assets/colab-badge.svg\" alt=\"Open In Colab\"/></a>"
      ]
    },
    {
      "cell_type": "code",
      "metadata": {
        "id": "mG2ElTxy5Z0x"
      },
      "source": [
        ""
      ],
      "execution_count": null,
      "outputs": []
    },
    {
      "cell_type": "markdown",
      "metadata": {
        "id": "y-VuZNfq5aML"
      },
      "source": [
        "# 통계"
      ]
    },
    {
      "cell_type": "markdown",
      "metadata": {
        "id": "Ac6pevi75pW8"
      },
      "source": [
        "## 통계를 위한 기본툴"
      ]
    },
    {
      "cell_type": "markdown",
      "metadata": {
        "id": "-6bg06aI5s2u"
      },
      "source": [
        "## 파이썬을 통한 기본 통계 증명"
      ]
    }
  ]
}